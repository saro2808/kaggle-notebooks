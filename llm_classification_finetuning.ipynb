{
 "cells": [
  {
   "cell_type": "markdown",
   "id": "914583ea",
   "metadata": {},
   "source": [
    "# [LLM Classification Finetuning](https://www.kaggle.com/competitions/llm-classification-finetuning/overview)\n",
    "Finetune LLMs to Predict Human Preference using Chatbot Arena conversations\n",
    "\n",
    "(notebookf690519948)"
   ]
  },
  {
   "cell_type": "code",
   "execution_count": 1,
   "id": "cfb6b1f4",
   "metadata": {
    "_cell_guid": "b1076dfc-b9ad-4769-8c92-a6c4dae69d19",
    "_uuid": "8f2839f25d086af736a60e9eeb907d3b93b6e0e5",
    "execution": {
     "iopub.execute_input": "2025-09-05T15:16:13.837232Z",
     "iopub.status.busy": "2025-09-05T15:16:13.836986Z",
     "iopub.status.idle": "2025-09-05T15:16:15.806686Z",
     "shell.execute_reply": "2025-09-05T15:16:15.805658Z"
    },
    "papermill": {
     "duration": 1.977922,
     "end_time": "2025-09-05T15:16:15.808610",
     "exception": false,
     "start_time": "2025-09-05T15:16:13.830688",
     "status": "completed"
    },
    "tags": []
   },
   "outputs": [
    {
     "name": "stdout",
     "output_type": "stream",
     "text": [
      "/kaggle/input/distilbert-finetuned-1/kaggle/working/my-finetuned-model/config.json\n",
      "/kaggle/input/distilbert-finetuned-1/kaggle/working/my-finetuned-model/merges.txt\n",
      "/kaggle/input/distilbert-finetuned-1/kaggle/working/my-finetuned-model/tokenizer.json\n",
      "/kaggle/input/distilbert-finetuned-1/kaggle/working/my-finetuned-model/vocab.json\n",
      "/kaggle/input/distilbert-finetuned-1/kaggle/working/my-finetuned-model/tokenizer_config.json\n",
      "/kaggle/input/distilbert-finetuned-1/kaggle/working/my-finetuned-model/model.safetensors\n",
      "/kaggle/input/distilbert-finetuned-1/kaggle/working/my-finetuned-model/special_tokens_map.json\n",
      "/kaggle/input/llm-classification-finetuning/sample_submission.csv\n",
      "/kaggle/input/llm-classification-finetuning/train.csv\n",
      "/kaggle/input/llm-classification-finetuning/test.csv\n",
      "/kaggle/input/distilbert-finetuned/transformers/default/1/kaggle/working/my-finetuned-model/config.json\n",
      "/kaggle/input/distilbert-finetuned/transformers/default/1/kaggle/working/my-finetuned-model/merges.txt\n",
      "/kaggle/input/distilbert-finetuned/transformers/default/1/kaggle/working/my-finetuned-model/tokenizer.json\n",
      "/kaggle/input/distilbert-finetuned/transformers/default/1/kaggle/working/my-finetuned-model/vocab.json\n",
      "/kaggle/input/distilbert-finetuned/transformers/default/1/kaggle/working/my-finetuned-model/tokenizer_config.json\n",
      "/kaggle/input/distilbert-finetuned/transformers/default/1/kaggle/working/my-finetuned-model/model.safetensors\n",
      "/kaggle/input/distilbert-finetuned/transformers/default/1/kaggle/working/my-finetuned-model/special_tokens_map.json\n"
     ]
    }
   ],
   "source": [
    "# This Python 3 environment comes with many helpful analytics libraries installed\n",
    "# It is defined by the kaggle/python Docker image: https://github.com/kaggle/docker-python\n",
    "# For example, here's several helpful packages to load\n",
    "\n",
    "import numpy as np # linear algebra\n",
    "import pandas as pd # data processing, CSV file I/O (e.g. pd.read_csv)\n",
    "\n",
    "import matplotlib.pyplot as plt\n",
    "\n",
    "# Input data files are available in the read-only \"../input/\" directory\n",
    "# For example, running this (by clicking run or pressing Shift+Enter) will list all files under the input directory\n",
    "\n",
    "import os\n",
    "for dirname, _, filenames in os.walk('/kaggle/input'):\n",
    "    for filename in filenames:\n",
    "        print(os.path.join(dirname, filename))\n",
    "\n",
    "# You can write up to 20GB to the current directory (/kaggle/working/) that gets preserved as output when you create a version using \"Save & Run All\" \n",
    "# You can also write temporary files to /kaggle/temp/, but they won't be saved outside of the current session"
   ]
  },
  {
   "cell_type": "markdown",
   "id": "62c3547f",
   "metadata": {
    "papermill": {
     "duration": 0.006346,
     "end_time": "2025-09-05T15:16:15.821087",
     "exception": false,
     "start_time": "2025-09-05T15:16:15.814741",
     "status": "completed"
    },
    "tags": []
   },
   "source": [
    "# Reading data"
   ]
  },
  {
   "cell_type": "code",
   "execution_count": 2,
   "id": "3298bb78",
   "metadata": {
    "execution": {
     "iopub.execute_input": "2025-09-05T15:16:15.832887Z",
     "iopub.status.busy": "2025-09-05T15:16:15.832527Z",
     "iopub.status.idle": "2025-09-05T15:16:19.350988Z",
     "shell.execute_reply": "2025-09-05T15:16:19.350364Z"
    },
    "papermill": {
     "duration": 3.525738,
     "end_time": "2025-09-05T15:16:19.352423",
     "exception": false,
     "start_time": "2025-09-05T15:16:15.826685",
     "status": "completed"
    },
    "tags": []
   },
   "outputs": [],
   "source": [
    "train_df = pd.read_csv('/kaggle/input/llm-classification-finetuning/train.csv')\n",
    "test_df = pd.read_csv('/kaggle/input/llm-classification-finetuning/test.csv')"
   ]
  },
  {
   "cell_type": "code",
   "execution_count": 3,
   "id": "2f35f55e",
   "metadata": {
    "execution": {
     "iopub.execute_input": "2025-09-05T15:16:19.364150Z",
     "iopub.status.busy": "2025-09-05T15:16:19.363533Z",
     "iopub.status.idle": "2025-09-05T15:16:19.388426Z",
     "shell.execute_reply": "2025-09-05T15:16:19.387834Z"
    },
    "papermill": {
     "duration": 0.031613,
     "end_time": "2025-09-05T15:16:19.389427",
     "exception": false,
     "start_time": "2025-09-05T15:16:19.357814",
     "status": "completed"
    },
    "tags": []
   },
   "outputs": [
    {
     "data": {
      "text/html": [
       "<div>\n",
       "<style scoped>\n",
       "    .dataframe tbody tr th:only-of-type {\n",
       "        vertical-align: middle;\n",
       "    }\n",
       "\n",
       "    .dataframe tbody tr th {\n",
       "        vertical-align: top;\n",
       "    }\n",
       "\n",
       "    .dataframe thead th {\n",
       "        text-align: right;\n",
       "    }\n",
       "</style>\n",
       "<table border=\"1\" class=\"dataframe\">\n",
       "  <thead>\n",
       "    <tr style=\"text-align: right;\">\n",
       "      <th></th>\n",
       "      <th>id</th>\n",
       "      <th>model_a</th>\n",
       "      <th>model_b</th>\n",
       "      <th>prompt</th>\n",
       "      <th>response_a</th>\n",
       "      <th>response_b</th>\n",
       "      <th>winner_model_a</th>\n",
       "      <th>winner_model_b</th>\n",
       "      <th>winner_tie</th>\n",
       "    </tr>\n",
       "  </thead>\n",
       "  <tbody>\n",
       "    <tr>\n",
       "      <th>0</th>\n",
       "      <td>30192</td>\n",
       "      <td>gpt-4-1106-preview</td>\n",
       "      <td>gpt-4-0613</td>\n",
       "      <td>[\"Is it morally right to try to have a certain...</td>\n",
       "      <td>[\"The question of whether it is morally right ...</td>\n",
       "      <td>[\"As an AI, I don't have personal beliefs or o...</td>\n",
       "      <td>1</td>\n",
       "      <td>0</td>\n",
       "      <td>0</td>\n",
       "    </tr>\n",
       "    <tr>\n",
       "      <th>1</th>\n",
       "      <td>53567</td>\n",
       "      <td>koala-13b</td>\n",
       "      <td>gpt-4-0613</td>\n",
       "      <td>[\"What is the difference between marriage lice...</td>\n",
       "      <td>[\"A marriage license is a legal document that ...</td>\n",
       "      <td>[\"A marriage license and a marriage certificat...</td>\n",
       "      <td>0</td>\n",
       "      <td>1</td>\n",
       "      <td>0</td>\n",
       "    </tr>\n",
       "    <tr>\n",
       "      <th>2</th>\n",
       "      <td>65089</td>\n",
       "      <td>gpt-3.5-turbo-0613</td>\n",
       "      <td>mistral-medium</td>\n",
       "      <td>[\"explain function calling. how would you call...</td>\n",
       "      <td>[\"Function calling is the process of invoking ...</td>\n",
       "      <td>[\"Function calling is the process of invoking ...</td>\n",
       "      <td>0</td>\n",
       "      <td>0</td>\n",
       "      <td>1</td>\n",
       "    </tr>\n",
       "    <tr>\n",
       "      <th>3</th>\n",
       "      <td>96401</td>\n",
       "      <td>llama-2-13b-chat</td>\n",
       "      <td>mistral-7b-instruct</td>\n",
       "      <td>[\"How can I create a test set for a very rare ...</td>\n",
       "      <td>[\"Creating a test set for a very rare category...</td>\n",
       "      <td>[\"When building a classifier for a very rare c...</td>\n",
       "      <td>1</td>\n",
       "      <td>0</td>\n",
       "      <td>0</td>\n",
       "    </tr>\n",
       "    <tr>\n",
       "      <th>4</th>\n",
       "      <td>198779</td>\n",
       "      <td>koala-13b</td>\n",
       "      <td>gpt-3.5-turbo-0314</td>\n",
       "      <td>[\"What is the best way to travel from Tel-Aviv...</td>\n",
       "      <td>[\"The best way to travel from Tel Aviv to Jeru...</td>\n",
       "      <td>[\"The best way to travel from Tel-Aviv to Jeru...</td>\n",
       "      <td>0</td>\n",
       "      <td>1</td>\n",
       "      <td>0</td>\n",
       "    </tr>\n",
       "  </tbody>\n",
       "</table>\n",
       "</div>"
      ],
      "text/plain": [
       "       id             model_a              model_b  \\\n",
       "0   30192  gpt-4-1106-preview           gpt-4-0613   \n",
       "1   53567           koala-13b           gpt-4-0613   \n",
       "2   65089  gpt-3.5-turbo-0613       mistral-medium   \n",
       "3   96401    llama-2-13b-chat  mistral-7b-instruct   \n",
       "4  198779           koala-13b   gpt-3.5-turbo-0314   \n",
       "\n",
       "                                              prompt  \\\n",
       "0  [\"Is it morally right to try to have a certain...   \n",
       "1  [\"What is the difference between marriage lice...   \n",
       "2  [\"explain function calling. how would you call...   \n",
       "3  [\"How can I create a test set for a very rare ...   \n",
       "4  [\"What is the best way to travel from Tel-Aviv...   \n",
       "\n",
       "                                          response_a  \\\n",
       "0  [\"The question of whether it is morally right ...   \n",
       "1  [\"A marriage license is a legal document that ...   \n",
       "2  [\"Function calling is the process of invoking ...   \n",
       "3  [\"Creating a test set for a very rare category...   \n",
       "4  [\"The best way to travel from Tel Aviv to Jeru...   \n",
       "\n",
       "                                          response_b  winner_model_a  \\\n",
       "0  [\"As an AI, I don't have personal beliefs or o...               1   \n",
       "1  [\"A marriage license and a marriage certificat...               0   \n",
       "2  [\"Function calling is the process of invoking ...               0   \n",
       "3  [\"When building a classifier for a very rare c...               1   \n",
       "4  [\"The best way to travel from Tel-Aviv to Jeru...               0   \n",
       "\n",
       "   winner_model_b  winner_tie  \n",
       "0               0           0  \n",
       "1               1           0  \n",
       "2               0           1  \n",
       "3               0           0  \n",
       "4               1           0  "
      ]
     },
     "execution_count": 3,
     "metadata": {},
     "output_type": "execute_result"
    }
   ],
   "source": [
    "train_df.head()"
   ]
  },
  {
   "cell_type": "code",
   "execution_count": 4,
   "id": "926942b5",
   "metadata": {
    "execution": {
     "iopub.execute_input": "2025-09-05T15:16:19.399715Z",
     "iopub.status.busy": "2025-09-05T15:16:19.399535Z",
     "iopub.status.idle": "2025-09-05T15:16:19.406560Z",
     "shell.execute_reply": "2025-09-05T15:16:19.405981Z"
    },
    "papermill": {
     "duration": 0.013318,
     "end_time": "2025-09-05T15:16:19.407648",
     "exception": false,
     "start_time": "2025-09-05T15:16:19.394330",
     "status": "completed"
    },
    "tags": []
   },
   "outputs": [
    {
     "data": {
      "text/html": [
       "<div>\n",
       "<style scoped>\n",
       "    .dataframe tbody tr th:only-of-type {\n",
       "        vertical-align: middle;\n",
       "    }\n",
       "\n",
       "    .dataframe tbody tr th {\n",
       "        vertical-align: top;\n",
       "    }\n",
       "\n",
       "    .dataframe thead th {\n",
       "        text-align: right;\n",
       "    }\n",
       "</style>\n",
       "<table border=\"1\" class=\"dataframe\">\n",
       "  <thead>\n",
       "    <tr style=\"text-align: right;\">\n",
       "      <th></th>\n",
       "      <th>id</th>\n",
       "      <th>prompt</th>\n",
       "      <th>response_a</th>\n",
       "      <th>response_b</th>\n",
       "    </tr>\n",
       "  </thead>\n",
       "  <tbody>\n",
       "    <tr>\n",
       "      <th>0</th>\n",
       "      <td>136060</td>\n",
       "      <td>[\"I have three oranges today, I ate an orange ...</td>\n",
       "      <td>[\"You have two oranges today.\"]</td>\n",
       "      <td>[\"You still have three oranges. Eating an oran...</td>\n",
       "    </tr>\n",
       "    <tr>\n",
       "      <th>1</th>\n",
       "      <td>211333</td>\n",
       "      <td>[\"You are a mediator in a heated political deb...</td>\n",
       "      <td>[\"Thank you for sharing the details of the sit...</td>\n",
       "      <td>[\"Mr Reddy and Ms Blue both have valid points ...</td>\n",
       "    </tr>\n",
       "    <tr>\n",
       "      <th>2</th>\n",
       "      <td>1233961</td>\n",
       "      <td>[\"How to initialize the classification head wh...</td>\n",
       "      <td>[\"When you want to initialize the classificati...</td>\n",
       "      <td>[\"To initialize the classification head when p...</td>\n",
       "    </tr>\n",
       "  </tbody>\n",
       "</table>\n",
       "</div>"
      ],
      "text/plain": [
       "        id                                             prompt  \\\n",
       "0   136060  [\"I have three oranges today, I ate an orange ...   \n",
       "1   211333  [\"You are a mediator in a heated political deb...   \n",
       "2  1233961  [\"How to initialize the classification head wh...   \n",
       "\n",
       "                                          response_a  \\\n",
       "0                    [\"You have two oranges today.\"]   \n",
       "1  [\"Thank you for sharing the details of the sit...   \n",
       "2  [\"When you want to initialize the classificati...   \n",
       "\n",
       "                                          response_b  \n",
       "0  [\"You still have three oranges. Eating an oran...  \n",
       "1  [\"Mr Reddy and Ms Blue both have valid points ...  \n",
       "2  [\"To initialize the classification head when p...  "
      ]
     },
     "execution_count": 4,
     "metadata": {},
     "output_type": "execute_result"
    }
   ],
   "source": [
    "test_df.head()"
   ]
  },
  {
   "cell_type": "code",
   "execution_count": 5,
   "id": "854b6035",
   "metadata": {
    "execution": {
     "iopub.execute_input": "2025-09-05T15:16:19.418595Z",
     "iopub.status.busy": "2025-09-05T15:16:19.418138Z",
     "iopub.status.idle": "2025-09-05T15:16:19.431904Z",
     "shell.execute_reply": "2025-09-05T15:16:19.431139Z"
    },
    "papermill": {
     "duration": 0.02025,
     "end_time": "2025-09-05T15:16:19.432996",
     "exception": false,
     "start_time": "2025-09-05T15:16:19.412746",
     "status": "completed"
    },
    "tags": []
   },
   "outputs": [
    {
     "data": {
      "text/html": [
       "<div>\n",
       "<style scoped>\n",
       "    .dataframe tbody tr th:only-of-type {\n",
       "        vertical-align: middle;\n",
       "    }\n",
       "\n",
       "    .dataframe tbody tr th {\n",
       "        vertical-align: top;\n",
       "    }\n",
       "\n",
       "    .dataframe thead th {\n",
       "        text-align: right;\n",
       "    }\n",
       "</style>\n",
       "<table border=\"1\" class=\"dataframe\">\n",
       "  <thead>\n",
       "    <tr style=\"text-align: right;\">\n",
       "      <th></th>\n",
       "      <th>id</th>\n",
       "      <th>winner_model_a</th>\n",
       "      <th>winner_model_b</th>\n",
       "      <th>winner_tie</th>\n",
       "    </tr>\n",
       "  </thead>\n",
       "  <tbody>\n",
       "    <tr>\n",
       "      <th>0</th>\n",
       "      <td>136060</td>\n",
       "      <td>0.333333</td>\n",
       "      <td>0.333333</td>\n",
       "      <td>0.333333</td>\n",
       "    </tr>\n",
       "    <tr>\n",
       "      <th>1</th>\n",
       "      <td>211333</td>\n",
       "      <td>0.333333</td>\n",
       "      <td>0.333333</td>\n",
       "      <td>0.333333</td>\n",
       "    </tr>\n",
       "    <tr>\n",
       "      <th>2</th>\n",
       "      <td>1233961</td>\n",
       "      <td>0.333333</td>\n",
       "      <td>0.333333</td>\n",
       "      <td>0.333333</td>\n",
       "    </tr>\n",
       "  </tbody>\n",
       "</table>\n",
       "</div>"
      ],
      "text/plain": [
       "        id  winner_model_a  winner_model_b  winner_tie\n",
       "0   136060        0.333333        0.333333    0.333333\n",
       "1   211333        0.333333        0.333333    0.333333\n",
       "2  1233961        0.333333        0.333333    0.333333"
      ]
     },
     "execution_count": 5,
     "metadata": {},
     "output_type": "execute_result"
    }
   ],
   "source": [
    "pd.read_csv('/kaggle/input/llm-classification-finetuning/sample_submission.csv').head()"
   ]
  },
  {
   "cell_type": "markdown",
   "id": "3f570908",
   "metadata": {
    "papermill": {
     "duration": 0.004697,
     "end_time": "2025-09-05T15:16:19.443352",
     "exception": false,
     "start_time": "2025-09-05T15:16:19.438655",
     "status": "completed"
    },
    "tags": []
   },
   "source": [
    "# Exploration"
   ]
  },
  {
   "cell_type": "code",
   "execution_count": 6,
   "id": "f2c14713",
   "metadata": {
    "execution": {
     "iopub.execute_input": "2025-09-05T15:16:19.453919Z",
     "iopub.status.busy": "2025-09-05T15:16:19.453725Z",
     "iopub.status.idle": "2025-09-05T15:16:19.539741Z",
     "shell.execute_reply": "2025-09-05T15:16:19.538805Z"
    },
    "papermill": {
     "duration": 0.092679,
     "end_time": "2025-09-05T15:16:19.540976",
     "exception": false,
     "start_time": "2025-09-05T15:16:19.448297",
     "status": "completed"
    },
    "tags": []
   },
   "outputs": [
    {
     "name": "stdout",
     "output_type": "stream",
     "text": [
      "<class 'pandas.core.frame.DataFrame'>\n",
      "RangeIndex: 57477 entries, 0 to 57476\n",
      "Data columns (total 9 columns):\n",
      " #   Column          Non-Null Count  Dtype \n",
      "---  ------          --------------  ----- \n",
      " 0   id              57477 non-null  int64 \n",
      " 1   model_a         57477 non-null  object\n",
      " 2   model_b         57477 non-null  object\n",
      " 3   prompt          57477 non-null  object\n",
      " 4   response_a      57477 non-null  object\n",
      " 5   response_b      57477 non-null  object\n",
      " 6   winner_model_a  57477 non-null  int64 \n",
      " 7   winner_model_b  57477 non-null  int64 \n",
      " 8   winner_tie      57477 non-null  int64 \n",
      "dtypes: int64(4), object(5)\n",
      "memory usage: 3.9+ MB\n"
     ]
    }
   ],
   "source": [
    "train_df.info()"
   ]
  },
  {
   "cell_type": "code",
   "execution_count": 7,
   "id": "a89bc403",
   "metadata": {
    "execution": {
     "iopub.execute_input": "2025-09-05T15:16:19.552330Z",
     "iopub.status.busy": "2025-09-05T15:16:19.551904Z",
     "iopub.status.idle": "2025-09-05T15:16:20.630212Z",
     "shell.execute_reply": "2025-09-05T15:16:20.629417Z"
    },
    "papermill": {
     "duration": 1.085532,
     "end_time": "2025-09-05T15:16:20.631705",
     "exception": false,
     "start_time": "2025-09-05T15:16:19.546173",
     "status": "completed"
    },
    "tags": []
   },
   "outputs": [],
   "source": [
    "train_df['response_a_word_len'] = train_df['response_a'].map(lambda x: len(x.split()))\n",
    "train_df['response_b_word_len'] = train_df['response_b'].map(lambda x: len(x.split()))"
   ]
  },
  {
   "cell_type": "code",
   "execution_count": 8,
   "id": "fcbb2eee",
   "metadata": {
    "execution": {
     "iopub.execute_input": "2025-09-05T15:16:20.642885Z",
     "iopub.status.busy": "2025-09-05T15:16:20.642383Z",
     "iopub.status.idle": "2025-09-05T15:16:20.654060Z",
     "shell.execute_reply": "2025-09-05T15:16:20.653503Z"
    },
    "papermill": {
     "duration": 0.018147,
     "end_time": "2025-09-05T15:16:20.655107",
     "exception": false,
     "start_time": "2025-09-05T15:16:20.636960",
     "status": "completed"
    },
    "tags": []
   },
   "outputs": [
    {
     "data": {
      "text/html": [
       "<div>\n",
       "<style scoped>\n",
       "    .dataframe tbody tr th:only-of-type {\n",
       "        vertical-align: middle;\n",
       "    }\n",
       "\n",
       "    .dataframe tbody tr th {\n",
       "        vertical-align: top;\n",
       "    }\n",
       "\n",
       "    .dataframe thead th {\n",
       "        text-align: right;\n",
       "    }\n",
       "</style>\n",
       "<table border=\"1\" class=\"dataframe\">\n",
       "  <thead>\n",
       "    <tr style=\"text-align: right;\">\n",
       "      <th></th>\n",
       "      <th>winner_model_a</th>\n",
       "      <th>winner_model_b</th>\n",
       "      <th>winner_tie</th>\n",
       "      <th>response_a_word_len</th>\n",
       "      <th>response_b_word_len</th>\n",
       "    </tr>\n",
       "  </thead>\n",
       "  <tbody>\n",
       "    <tr>\n",
       "      <th>0</th>\n",
       "      <td>1</td>\n",
       "      <td>0</td>\n",
       "      <td>0</td>\n",
       "      <td>656</td>\n",
       "      <td>204</td>\n",
       "    </tr>\n",
       "    <tr>\n",
       "      <th>1</th>\n",
       "      <td>0</td>\n",
       "      <td>1</td>\n",
       "      <td>0</td>\n",
       "      <td>531</td>\n",
       "      <td>571</td>\n",
       "    </tr>\n",
       "    <tr>\n",
       "      <th>2</th>\n",
       "      <td>0</td>\n",
       "      <td>0</td>\n",
       "      <td>1</td>\n",
       "      <td>138</td>\n",
       "      <td>280</td>\n",
       "    </tr>\n",
       "    <tr>\n",
       "      <th>3</th>\n",
       "      <td>1</td>\n",
       "      <td>0</td>\n",
       "      <td>0</td>\n",
       "      <td>536</td>\n",
       "      <td>265</td>\n",
       "    </tr>\n",
       "    <tr>\n",
       "      <th>4</th>\n",
       "      <td>0</td>\n",
       "      <td>1</td>\n",
       "      <td>0</td>\n",
       "      <td>230</td>\n",
       "      <td>122</td>\n",
       "    </tr>\n",
       "  </tbody>\n",
       "</table>\n",
       "</div>"
      ],
      "text/plain": [
       "   winner_model_a  winner_model_b  winner_tie  response_a_word_len  \\\n",
       "0               1               0           0                  656   \n",
       "1               0               1           0                  531   \n",
       "2               0               0           1                  138   \n",
       "3               1               0           0                  536   \n",
       "4               0               1           0                  230   \n",
       "\n",
       "   response_b_word_len  \n",
       "0                  204  \n",
       "1                  571  \n",
       "2                  280  \n",
       "3                  265  \n",
       "4                  122  "
      ]
     },
     "execution_count": 8,
     "metadata": {},
     "output_type": "execute_result"
    }
   ],
   "source": [
    "train_df[['winner_model_a',\t'winner_model_b', 'winner_tie',\t'response_a_word_len', 'response_b_word_len']].head()"
   ]
  },
  {
   "cell_type": "code",
   "execution_count": 9,
   "id": "f9c5e6d4",
   "metadata": {
    "execution": {
     "iopub.execute_input": "2025-09-05T15:16:20.666205Z",
     "iopub.status.busy": "2025-09-05T15:16:20.665828Z",
     "iopub.status.idle": "2025-09-05T15:16:21.741149Z",
     "shell.execute_reply": "2025-09-05T15:16:21.740398Z"
    },
    "papermill": {
     "duration": 1.084426,
     "end_time": "2025-09-05T15:16:21.744821",
     "exception": false,
     "start_time": "2025-09-05T15:16:20.660395",
     "status": "completed"
    },
    "tags": []
   },
   "outputs": [
    {
     "data": {
      "image/png": "[encoded data removed]",
      "text/plain": [
       "<Figure size 1400x600 with 2 Axes>"
      ]
     },
     "metadata": {},
     "output_type": "display_data"
    }
   ],
   "source": [
    "model_a_successes = train_df[['model_a', 'winner_model_a']].groupby('model_a').mean().sort_values(by='winner_model_a')\n",
    "model_b_successes = train_df[['model_b', 'winner_model_b']].groupby('model_b').mean().sort_values(by='winner_model_b')\n",
    "# ax = model_a_successes.plot()\n",
    "\n",
    "\n",
    "fig, axes = plt.subplots(1, 2, figsize=(14, 6), sharey=True)\n",
    "\n",
    "# Plot A\n",
    "model_a_successes.plot(ax=axes[0], legend=False, title=\"Model A Successes\")\n",
    "axes[0].set_xticks(range(len(model_a_successes)))\n",
    "axes[0].set_xticklabels(model_a_successes.index, rotation=90)\n",
    "\n",
    "# Plot B\n",
    "model_b_successes.plot(ax=axes[1], legend=False, title=\"Model B Successes\")\n",
    "axes[1].set_xticks(range(len(model_b_successes)))\n",
    "axes[1].set_xticklabels(model_b_successes.index, rotation=90)\n",
    "\n",
    "plt.show()"
   ]
  },
  {
   "cell_type": "markdown",
   "id": "ebc0055c",
   "metadata": {
    "papermill": {
     "duration": 0.008012,
     "end_time": "2025-09-05T15:16:21.761300",
     "exception": false,
     "start_time": "2025-09-05T15:16:21.753288",
     "status": "completed"
    },
    "tags": []
   },
   "source": [
    "# Finetuning"
   ]
  },
  {
   "cell_type": "code",
   "execution_count": 10,
   "id": "8c1fd0f5",
   "metadata": {
    "execution": {
     "iopub.execute_input": "2025-09-05T15:16:21.777535Z",
     "iopub.status.busy": "2025-09-05T15:16:21.777286Z",
     "iopub.status.idle": "2025-09-05T15:16:21.780585Z",
     "shell.execute_reply": "2025-09-05T15:16:21.779864Z"
    },
    "papermill": {
     "duration": 0.012522,
     "end_time": "2025-09-05T15:16:21.781662",
     "exception": false,
     "start_time": "2025-09-05T15:16:21.769140",
     "status": "completed"
    },
    "tags": []
   },
   "outputs": [],
   "source": [
    "# !transformers-cli download distilbert-base-uncased"
   ]
  },
  {
   "cell_type": "code",
   "execution_count": 11,
   "id": "c7ee1294",
   "metadata": {
    "execution": {
     "iopub.execute_input": "2025-09-05T15:16:21.798540Z",
     "iopub.status.busy": "2025-09-05T15:16:21.797942Z",
     "iopub.status.idle": "2025-09-05T15:17:06.556910Z",
     "shell.execute_reply": "2025-09-05T15:17:06.556071Z"
    },
    "papermill": {
     "duration": 44.768726,
     "end_time": "2025-09-05T15:17:06.558486",
     "exception": false,
     "start_time": "2025-09-05T15:16:21.789760",
     "status": "completed"
    },
    "tags": []
   },
   "outputs": [
    {
     "name": "stderr",
     "output_type": "stream",
     "text": [
      "2025-09-05 15:16:47.453896: E external/local_xla/xla/stream_executor/cuda/cuda_fft.cc:477] Unable to register cuFFT factory: Attempting to register factory for plugin cuFFT when one has already been registered\n",
      "WARNING: All log messages before absl::InitializeLog() is called are written to STDERR\n",
      "E0000 00:00:1757085407.820521      19 cuda_dnn.cc:8310] Unable to register cuDNN factory: Attempting to register factory for plugin cuDNN when one has already been registered\n",
      "E0000 00:00:1757085407.923947      19 cuda_blas.cc:1418] Unable to register cuBLAS factory: Attempting to register factory for plugin cuBLAS when one has already been registered\n"
     ]
    }
   ],
   "source": [
    "from transformers import AutoTokenizer, AutoModelForSequenceClassification, Trainer, TrainingArguments, DataCollatorWithPadding\n",
    "from datasets import load_dataset, DatasetDict\n",
    "\n",
    "import torch\n",
    "import torch.nn.functional as F\n",
    "\n",
    "from sklearn.metrics import accuracy_score"
   ]
  },
  {
   "cell_type": "code",
   "execution_count": 12,
   "id": "12c743e8",
   "metadata": {
    "execution": {
     "iopub.execute_input": "2025-09-05T15:17:06.576179Z",
     "iopub.status.busy": "2025-09-05T15:17:06.575670Z",
     "iopub.status.idle": "2025-09-05T15:17:06.578991Z",
     "shell.execute_reply": "2025-09-05T15:17:06.578415Z"
    },
    "papermill": {
     "duration": 0.013033,
     "end_time": "2025-09-05T15:17:06.580066",
     "exception": false,
     "start_time": "2025-09-05T15:17:06.567033",
     "status": "completed"
    },
    "tags": []
   },
   "outputs": [],
   "source": [
    "# # uncomment during training (along with the remaining commented code in this section)\n",
    "# model_name = \"distilroberta-base\"\n",
    "# tokenizer = AutoTokenizer.from_pretrained(model_name)\n",
    "# model = AutoModelForSequenceClassification.from_pretrained(model_name, num_labels=3)"
   ]
  },
  {
   "cell_type": "code",
   "execution_count": 13,
   "id": "b79f70b9",
   "metadata": {
    "execution": {
     "iopub.execute_input": "2025-09-05T15:17:06.596395Z",
     "iopub.status.busy": "2025-09-05T15:17:06.596181Z",
     "iopub.status.idle": "2025-09-05T15:17:06.600915Z",
     "shell.execute_reply": "2025-09-05T15:17:06.600394Z"
    },
    "papermill": {
     "duration": 0.014042,
     "end_time": "2025-09-05T15:17:06.601893",
     "exception": false,
     "start_time": "2025-09-05T15:17:06.587851",
     "status": "completed"
    },
    "tags": []
   },
   "outputs": [],
   "source": [
    "def preprocess_and_label(batch, label=True):\n",
    "    # Build text inputs\n",
    "    texts = [\n",
    "        f\"Prompt: {p}\\nResponse A: {a}\\nResponse B: {b}\"\n",
    "        for p, a, b in zip(batch[\"prompt\"], batch[\"response_a\"], batch[\"response_b\"])\n",
    "    ]\n",
    "\n",
    "    # Tokenize\n",
    "    encodings = tokenizer(texts, truncation=True, padding=\"max_length\", max_length=512)\n",
    "\n",
    "    if label:\n",
    "        # Add labels\n",
    "        labels = []\n",
    "        for a, b in zip(batch[\"winner_model_a\"], batch[\"winner_model_b\"]):\n",
    "            if a == 1:\n",
    "                labels.append(0)\n",
    "            elif b == 1:\n",
    "                labels.append(1)\n",
    "            else:\n",
    "                labels.append(2)\n",
    "    \n",
    "        encodings[\"labels\"] = labels\n",
    "    return encodings"
   ]
  },
  {
   "cell_type": "code",
   "execution_count": 14,
   "id": "b85aa364",
   "metadata": {
    "execution": {
     "iopub.execute_input": "2025-09-05T15:17:06.617920Z",
     "iopub.status.busy": "2025-09-05T15:17:06.617720Z",
     "iopub.status.idle": "2025-09-05T15:17:06.620542Z",
     "shell.execute_reply": "2025-09-05T15:17:06.619978Z"
    },
    "papermill": {
     "duration": 0.011965,
     "end_time": "2025-09-05T15:17:06.621678",
     "exception": false,
     "start_time": "2025-09-05T15:17:06.609713",
     "status": "completed"
    },
    "tags": []
   },
   "outputs": [],
   "source": [
    "# dataset = load_dataset(\"csv\", data_files='/kaggle/input/llm-classification-finetuning/train.csv')\n",
    "# dataset = dataset.map(preprocess_and_label, batched=True, num_proc=8)"
   ]
  },
  {
   "cell_type": "code",
   "execution_count": 15,
   "id": "59bc13e7",
   "metadata": {
    "execution": {
     "iopub.execute_input": "2025-09-05T15:17:06.638239Z",
     "iopub.status.busy": "2025-09-05T15:17:06.638039Z",
     "iopub.status.idle": "2025-09-05T15:17:06.640822Z",
     "shell.execute_reply": "2025-09-05T15:17:06.640273Z"
    },
    "papermill": {
     "duration": 0.012359,
     "end_time": "2025-09-05T15:17:06.641873",
     "exception": false,
     "start_time": "2025-09-05T15:17:06.629514",
     "status": "completed"
    },
    "tags": []
   },
   "outputs": [],
   "source": [
    "# train_test = dataset[\"train\"].train_test_split(test_size=0.1, seed=42)\n",
    "# dataset = DatasetDict({\n",
    "#     \"train\": train_test[\"train\"],\n",
    "#     \"test\": train_test[\"test\"]\n",
    "# })\n",
    "\n",
    "# dataset[\"train\"].features"
   ]
  },
  {
   "cell_type": "code",
   "execution_count": 16,
   "id": "3cc5f0a8",
   "metadata": {
    "execution": {
     "iopub.execute_input": "2025-09-05T15:17:06.657995Z",
     "iopub.status.busy": "2025-09-05T15:17:06.657785Z",
     "iopub.status.idle": "2025-09-05T15:17:06.660977Z",
     "shell.execute_reply": "2025-09-05T15:17:06.660317Z"
    },
    "papermill": {
     "duration": 0.012507,
     "end_time": "2025-09-05T15:17:06.662027",
     "exception": false,
     "start_time": "2025-09-05T15:17:06.649520",
     "status": "completed"
    },
    "tags": []
   },
   "outputs": [],
   "source": [
    "# data_collator = DataCollatorWithPadding(tokenizer=tokenizer)\n",
    "\n",
    "# training_args = TrainingArguments(\n",
    "#     output_dir=\"./results\",\n",
    "#     per_device_train_batch_size=8,\n",
    "#     num_train_epochs=3,                # start small to test\n",
    "#     logging_strategy=\"steps\",          # log by steps, not just epoch\n",
    "#     logging_steps=50,                  # log every 50 steps\n",
    "#     eval_strategy=\"steps\",       # run eval every few steps\n",
    "#     eval_steps=800,                    # how often to evaluate\n",
    "#     save_strategy=\"steps\",             # ✅ don’t save checkpoints during training\n",
    "#     save_steps=800,\n",
    "#     load_best_model_at_end=True,\n",
    "#     report_to=\"none\"                   # disable wandb/tensorboard unless you want them\n",
    "# )"
   ]
  },
  {
   "cell_type": "code",
   "execution_count": 17,
   "id": "98fd123e",
   "metadata": {
    "_kg_hide-output": true,
    "execution": {
     "iopub.execute_input": "2025-09-05T15:17:06.678130Z",
     "iopub.status.busy": "2025-09-05T15:17:06.677939Z",
     "iopub.status.idle": "2025-09-05T15:17:06.680667Z",
     "shell.execute_reply": "2025-09-05T15:17:06.680174Z"
    },
    "papermill": {
     "duration": 0.011904,
     "end_time": "2025-09-05T15:17:06.681708",
     "exception": false,
     "start_time": "2025-09-05T15:17:06.669804",
     "status": "completed"
    },
    "tags": []
   },
   "outputs": [],
   "source": [
    "# !pip install evaluate"
   ]
  },
  {
   "cell_type": "code",
   "execution_count": 18,
   "id": "cf4bb984",
   "metadata": {
    "execution": {
     "iopub.execute_input": "2025-09-05T15:17:06.697929Z",
     "iopub.status.busy": "2025-09-05T15:17:06.697738Z",
     "iopub.status.idle": "2025-09-05T15:17:06.700769Z",
     "shell.execute_reply": "2025-09-05T15:17:06.700087Z"
    },
    "papermill": {
     "duration": 0.012387,
     "end_time": "2025-09-05T15:17:06.701857",
     "exception": false,
     "start_time": "2025-09-05T15:17:06.689470",
     "status": "completed"
    },
    "tags": []
   },
   "outputs": [],
   "source": [
    "# import evaluate\n",
    "\n",
    "# accuracy = evaluate.load(\"accuracy\")\n",
    "\n",
    "# def compute_metrics(eval_pred):\n",
    "#     logits, labels = eval_pred\n",
    "#     preds = logits.argmax(axis=-1)\n",
    "#     return accuracy.compute(predictions=preds, references=labels)"
   ]
  },
  {
   "cell_type": "code",
   "execution_count": 19,
   "id": "360811d2",
   "metadata": {
    "execution": {
     "iopub.execute_input": "2025-09-05T15:17:06.718332Z",
     "iopub.status.busy": "2025-09-05T15:17:06.717778Z",
     "iopub.status.idle": "2025-09-05T15:17:06.720774Z",
     "shell.execute_reply": "2025-09-05T15:17:06.720253Z"
    },
    "papermill": {
     "duration": 0.012034,
     "end_time": "2025-09-05T15:17:06.721692",
     "exception": false,
     "start_time": "2025-09-05T15:17:06.709658",
     "status": "completed"
    },
    "tags": []
   },
   "outputs": [],
   "source": [
    "# trainer = Trainer(\n",
    "#     model=model,\n",
    "#     args=training_args,\n",
    "#     train_dataset=dataset[\"train\"],\n",
    "#     eval_dataset=dataset[\"test\"],\n",
    "#     data_collator=data_collator,\n",
    "#     processing_class=tokenizer,\n",
    "#     compute_metrics=compute_metrics,  # ✅ metrics hook\n",
    "# )"
   ]
  },
  {
   "cell_type": "code",
   "execution_count": 20,
   "id": "26b6e694",
   "metadata": {
    "execution": {
     "iopub.execute_input": "2025-09-05T15:17:06.738069Z",
     "iopub.status.busy": "2025-09-05T15:17:06.737733Z",
     "iopub.status.idle": "2025-09-05T15:17:06.740703Z",
     "shell.execute_reply": "2025-09-05T15:17:06.740113Z"
    },
    "papermill": {
     "duration": 0.012295,
     "end_time": "2025-09-05T15:17:06.741735",
     "exception": false,
     "start_time": "2025-09-05T15:17:06.729440",
     "status": "completed"
    },
    "tags": []
   },
   "outputs": [],
   "source": [
    "# trainer.train()"
   ]
  },
  {
   "cell_type": "code",
   "execution_count": 21,
   "id": "4c4525fc",
   "metadata": {
    "execution": {
     "iopub.execute_input": "2025-09-05T15:17:06.758027Z",
     "iopub.status.busy": "2025-09-05T15:17:06.757818Z",
     "iopub.status.idle": "2025-09-05T15:17:06.760539Z",
     "shell.execute_reply": "2025-09-05T15:17:06.760014Z"
    },
    "papermill": {
     "duration": 0.011857,
     "end_time": "2025-09-05T15:17:06.761425",
     "exception": false,
     "start_time": "2025-09-05T15:17:06.749568",
     "status": "completed"
    },
    "tags": []
   },
   "outputs": [],
   "source": [
    "# metrics = trainer.evaluate()\n",
    "# print(metrics)"
   ]
  },
  {
   "cell_type": "code",
   "execution_count": 22,
   "id": "221378a2",
   "metadata": {
    "execution": {
     "iopub.execute_input": "2025-09-05T15:17:06.778092Z",
     "iopub.status.busy": "2025-09-05T15:17:06.777871Z",
     "iopub.status.idle": "2025-09-05T15:17:06.780967Z",
     "shell.execute_reply": "2025-09-05T15:17:06.780299Z"
    },
    "papermill": {
     "duration": 0.01255,
     "end_time": "2025-09-05T15:17:06.782016",
     "exception": false,
     "start_time": "2025-09-05T15:17:06.769466",
     "status": "completed"
    },
    "tags": []
   },
   "outputs": [],
   "source": [
    "# model.save_pretrained(\"/kaggle/working/my-finetuned-model\")\n",
    "# tokenizer.save_pretrained(\"/kaggle/working/my-finetuned-model\")"
   ]
  },
  {
   "cell_type": "code",
   "execution_count": 23,
   "id": "b7ba3540",
   "metadata": {
    "execution": {
     "iopub.execute_input": "2025-09-05T15:17:06.798491Z",
     "iopub.status.busy": "2025-09-05T15:17:06.798279Z",
     "iopub.status.idle": "2025-09-05T15:17:06.801283Z",
     "shell.execute_reply": "2025-09-05T15:17:06.800713Z"
    },
    "papermill": {
     "duration": 0.01213,
     "end_time": "2025-09-05T15:17:06.802289",
     "exception": false,
     "start_time": "2025-09-05T15:17:06.790159",
     "status": "completed"
    },
    "tags": []
   },
   "outputs": [],
   "source": [
    "# !ls -R /kaggle/working/my-finetuned-model"
   ]
  },
  {
   "cell_type": "code",
   "execution_count": 24,
   "id": "4227306e",
   "metadata": {
    "execution": {
     "iopub.execute_input": "2025-09-05T15:17:06.819490Z",
     "iopub.status.busy": "2025-09-05T15:17:06.819287Z",
     "iopub.status.idle": "2025-09-05T15:17:06.822498Z",
     "shell.execute_reply": "2025-09-05T15:17:06.821806Z"
    },
    "papermill": {
     "duration": 0.012593,
     "end_time": "2025-09-05T15:17:06.823541",
     "exception": false,
     "start_time": "2025-09-05T15:17:06.810948",
     "status": "completed"
    },
    "tags": []
   },
   "outputs": [],
   "source": [
    "# !zip -r /kaggle/working/my-finetuned-model.zip /kaggle/working/my-finetuned-model"
   ]
  },
  {
   "cell_type": "code",
   "execution_count": 25,
   "id": "03e9592a",
   "metadata": {
    "execution": {
     "iopub.execute_input": "2025-09-05T15:17:06.841240Z",
     "iopub.status.busy": "2025-09-05T15:17:06.841063Z",
     "iopub.status.idle": "2025-09-05T15:17:07.008056Z",
     "shell.execute_reply": "2025-09-05T15:17:07.007323Z"
    },
    "papermill": {
     "duration": 0.176252,
     "end_time": "2025-09-05T15:17:07.009175",
     "exception": false,
     "start_time": "2025-09-05T15:17:06.832923",
     "status": "completed"
    },
    "tags": []
   },
   "outputs": [
    {
     "name": "stdout",
     "output_type": "stream",
     "text": [
      "config.json  model.safetensors\t      tokenizer_config.json  vocab.json\r\n",
      "merges.txt   special_tokens_map.json  tokenizer.json\r\n"
     ]
    }
   ],
   "source": [
    "!ls /kaggle/input/distilbert-finetuned-1/kaggle/working/my-finetuned-model"
   ]
  },
  {
   "cell_type": "markdown",
   "id": "07fdfab3",
   "metadata": {
    "papermill": {
     "duration": 0.007514,
     "end_time": "2025-09-05T15:17:07.024819",
     "exception": false,
     "start_time": "2025-09-05T15:17:07.017305",
     "status": "completed"
    },
    "tags": []
   },
   "source": [
    "Download the zipped model from output by hand and add in Input > datasets"
   ]
  },
  {
   "cell_type": "markdown",
   "id": "0e2f6f70",
   "metadata": {},
   "source": [
    "# Inference"
   ]
  },
  {
   "cell_type": "code",
   "execution_count": 26,
   "id": "db0f33fb",
   "metadata": {
    "execution": {
     "iopub.execute_input": "2025-09-05T15:17:07.040990Z",
     "iopub.status.busy": "2025-09-05T15:17:07.040751Z",
     "iopub.status.idle": "2025-09-05T15:17:07.044295Z",
     "shell.execute_reply": "2025-09-05T15:17:07.043624Z"
    },
    "papermill": {
     "duration": 0.012948,
     "end_time": "2025-09-05T15:17:07.045382",
     "exception": false,
     "start_time": "2025-09-05T15:17:07.032434",
     "status": "completed"
    },
    "tags": []
   },
   "outputs": [],
   "source": [
    "# !unzip -q /kaggle/input/my-finetuned-model/my-finetuned-model.zip -d /kaggle/working/"
   ]
  },
  {
   "cell_type": "code",
   "execution_count": 27,
   "id": "bbcd7c4e",
   "metadata": {
    "execution": {
     "iopub.execute_input": "2025-09-05T15:17:07.061548Z",
     "iopub.status.busy": "2025-09-05T15:17:07.061333Z",
     "iopub.status.idle": "2025-09-05T15:18:38.211710Z",
     "shell.execute_reply": "2025-09-05T15:18:38.210982Z"
    },
    "papermill": {
     "duration": 91.159954,
     "end_time": "2025-09-05T15:18:38.213153",
     "exception": false,
     "start_time": "2025-09-05T15:17:07.053199",
     "status": "completed"
    },
    "tags": []
   },
   "outputs": [
    {
     "data": {
      "application/vnd.jupyter.widget-view+json": {
       "model_id": "1f3797fb77754a03a9c9a307463eac79",
       "version_major": 2,
       "version_minor": 0
      },
      "text/plain": [
       "Generating train split: 0 examples [00:00, ? examples/s]"
      ]
     },
     "metadata": {},
     "output_type": "display_data"
    },
    {
     "data": {
      "application/vnd.jupyter.widget-view+json": {
       "model_id": "09f88ac758d249b3ad3fddc02cd11742",
       "version_major": 2,
       "version_minor": 0
      },
      "text/plain": [
       "Map (num_proc=8):   0%|          | 0/57477 [00:00<?, ? examples/s]"
      ]
     },
     "metadata": {},
     "output_type": "display_data"
    }
   ],
   "source": [
    "model = AutoModelForSequenceClassification.from_pretrained(\n",
    "    \"/kaggle/input/distilbert-finetuned-1/kaggle/working/my-finetuned-model\", \n",
    "    local_files_only=True\n",
    ")\n",
    "\n",
    "tokenizer = AutoTokenizer.from_pretrained(\n",
    "    \"/kaggle/input/distilbert-finetuned-1/kaggle/working/my-finetuned-model\", \n",
    "    local_files_only=True\n",
    ")\n",
    "\n",
    "dataset = load_dataset(\"csv\", data_files='/kaggle/input/llm-classification-finetuning/train.csv')\n",
    "dataset = dataset.map(preprocess_and_label, batched=True, num_proc=8)\n",
    "train_test = dataset[\"train\"].train_test_split(test_size=0.1, seed=42)\n",
    "dataset = DatasetDict({\"train\": train_test[\"train\"], \"test\": train_test[\"test\"]})\n",
    "\n",
    "# ideally we would use pipeline instead of redefining all this\n",
    "data_collator = DataCollatorWithPadding(tokenizer=tokenizer)\n",
    "\n",
    "training_args = TrainingArguments(\n",
    "    output_dir=\"/kaggle/temp\",\n",
    "    per_device_train_batch_size=8,\n",
    "    num_train_epochs=3,                # start small to test\n",
    "    logging_strategy=\"steps\",          # log by steps, not just epoch\n",
    "    logging_steps=50,                  # log every 50 steps\n",
    "    eval_strategy=\"steps\",       # run eval every few steps\n",
    "    eval_steps=800,                    # how often to evaluate\n",
    "    save_strategy=\"steps\",             # ✅ don’t save checkpoints during training\n",
    "    save_steps=800,\n",
    "    load_best_model_at_end=True,\n",
    "    report_to=\"none\"                   # disable wandb/tensorboard unless you want them\n",
    ")\n",
    "\n",
    "def compute_metrics(eval_pred):\n",
    "    logits, labels = eval_pred\n",
    "    preds = logits.argmax(axis=-1)\n",
    "    return {\n",
    "        \"accuracy\": accuracy_score(labels, preds)\n",
    "    }\n",
    "\n",
    "trainer = Trainer(\n",
    "    model=model,\n",
    "    args=training_args,\n",
    "    train_dataset=dataset[\"train\"],\n",
    "    eval_dataset=dataset[\"test\"],\n",
    "    data_collator=data_collator,\n",
    "    processing_class=tokenizer,\n",
    "    compute_metrics=compute_metrics,  # ✅ metrics hook\n",
    ")"
   ]
  },
  {
   "cell_type": "code",
   "execution_count": 28,
   "id": "4cc71cef",
   "metadata": {
    "execution": {
     "iopub.execute_input": "2025-09-05T15:18:38.231425Z",
     "iopub.status.busy": "2025-09-05T15:18:38.231196Z",
     "iopub.status.idle": "2025-09-05T15:19:10.626064Z",
     "shell.execute_reply": "2025-09-05T15:19:10.625140Z"
    },
    "papermill": {
     "duration": 32.405916,
     "end_time": "2025-09-05T15:19:10.627977",
     "exception": false,
     "start_time": "2025-09-05T15:18:38.222061",
     "status": "completed"
    },
    "tags": []
   },
   "outputs": [
    {
     "data": {
      "application/vnd.jupyter.widget-view+json": {
       "model_id": "1bfa4a8991694e6b82f3e509f127cf18",
       "version_major": 2,
       "version_minor": 0
      },
      "text/plain": [
       "Generating train split: 0 examples [00:00, ? examples/s]"
      ]
     },
     "metadata": {},
     "output_type": "display_data"
    },
    {
     "name": "stderr",
     "output_type": "stream",
     "text": [
      "num_proc must be <= 3. Reducing num_proc to 3 for dataset of size 3.\n"
     ]
    },
    {
     "data": {
      "application/vnd.jupyter.widget-view+json": {
       "model_id": "3f390c844cc74666b92938915bf9b29d",
       "version_major": 2,
       "version_minor": 0
      },
      "text/plain": [
       "Map (num_proc=3):   0%|          | 0/3 [00:00<?, ? examples/s]"
      ]
     },
     "metadata": {},
     "output_type": "display_data"
    }
   ],
   "source": [
    "test_dataset = load_dataset(\"csv\", data_files='/kaggle/input/llm-classification-finetuning/test.csv')\n",
    "preprocess = lambda x: preprocess_and_label(x, label=False)\n",
    "test_dataset = test_dataset.map(preprocess, batched=True, num_proc=8)"
   ]
  },
  {
   "cell_type": "code",
   "execution_count": 29,
   "id": "3fdc03a9",
   "metadata": {
    "execution": {
     "iopub.execute_input": "2025-09-05T15:19:10.646872Z",
     "iopub.status.busy": "2025-09-05T15:19:10.646336Z",
     "iopub.status.idle": "2025-09-05T15:19:12.421294Z",
     "shell.execute_reply": "2025-09-05T15:19:12.420485Z"
    },
    "papermill": {
     "duration": 1.785554,
     "end_time": "2025-09-05T15:19:12.422516",
     "exception": false,
     "start_time": "2025-09-05T15:19:10.636962",
     "status": "completed"
    },
    "tags": []
   },
   "outputs": [
    {
     "data": {
      "text/html": [],
      "text/plain": [
       "<IPython.core.display.HTML object>"
      ]
     },
     "metadata": {},
     "output_type": "display_data"
    },
    {
     "data": {
      "text/plain": [
       "tensor([[0.2949, 0.3060, 0.3990],\n",
       "        [0.3078, 0.3188, 0.3734],\n",
       "        [0.3815, 0.3700, 0.2485]])"
      ]
     },
     "execution_count": 29,
     "metadata": {},
     "output_type": "execute_result"
    }
   ],
   "source": [
    "predictions = trainer.predict(test_dataset[\"train\"])\n",
    "logits = predictions.predictions\n",
    "preds = F.softmax(torch.from_numpy(logits), dim=-1)\n",
    "preds"
   ]
  },
  {
   "cell_type": "code",
   "execution_count": 30,
   "id": "a12abde3",
   "metadata": {
    "execution": {
     "iopub.execute_input": "2025-09-05T15:19:12.442089Z",
     "iopub.status.busy": "2025-09-05T15:19:12.441855Z",
     "iopub.status.idle": "2025-09-05T15:19:12.453149Z",
     "shell.execute_reply": "2025-09-05T15:19:12.452516Z"
    },
    "papermill": {
     "duration": 0.022505,
     "end_time": "2025-09-05T15:19:12.454279",
     "exception": false,
     "start_time": "2025-09-05T15:19:12.431774",
     "status": "completed"
    },
    "tags": []
   },
   "outputs": [
    {
     "data": {
      "text/html": [
       "<div>\n",
       "<style scoped>\n",
       "    .dataframe tbody tr th:only-of-type {\n",
       "        vertical-align: middle;\n",
       "    }\n",
       "\n",
       "    .dataframe tbody tr th {\n",
       "        vertical-align: top;\n",
       "    }\n",
       "\n",
       "    .dataframe thead th {\n",
       "        text-align: right;\n",
       "    }\n",
       "</style>\n",
       "<table border=\"1\" class=\"dataframe\">\n",
       "  <thead>\n",
       "    <tr style=\"text-align: right;\">\n",
       "      <th></th>\n",
       "      <th>id</th>\n",
       "      <th>winner_model_a</th>\n",
       "      <th>winner_model_b</th>\n",
       "      <th>winner_tie</th>\n",
       "    </tr>\n",
       "  </thead>\n",
       "  <tbody>\n",
       "    <tr>\n",
       "      <th>0</th>\n",
       "      <td>136060</td>\n",
       "      <td>0.294912</td>\n",
       "      <td>0.306042</td>\n",
       "      <td>0.399046</td>\n",
       "    </tr>\n",
       "    <tr>\n",
       "      <th>1</th>\n",
       "      <td>211333</td>\n",
       "      <td>0.307847</td>\n",
       "      <td>0.318788</td>\n",
       "      <td>0.373365</td>\n",
       "    </tr>\n",
       "    <tr>\n",
       "      <th>2</th>\n",
       "      <td>1233961</td>\n",
       "      <td>0.381509</td>\n",
       "      <td>0.369959</td>\n",
       "      <td>0.248532</td>\n",
       "    </tr>\n",
       "  </tbody>\n",
       "</table>\n",
       "</div>"
      ],
      "text/plain": [
       "        id  winner_model_a  winner_model_b  winner_tie\n",
       "0   136060        0.294912        0.306042    0.399046\n",
       "1   211333        0.307847        0.318788    0.373365\n",
       "2  1233961        0.381509        0.369959    0.248532"
      ]
     },
     "execution_count": 30,
     "metadata": {},
     "output_type": "execute_result"
    }
   ],
   "source": [
    "submission = pd.DataFrame({\n",
    "    \"id\": test_dataset[\"train\"][\"id\"],\n",
    "    \"winner_model_a\": preds[:, 0].numpy(),\n",
    "    \"winner_model_b\": preds[:, 1].numpy(),\n",
    "    \"winner_tie\": preds[:, 2].numpy()\n",
    "})\n",
    "\n",
    "submission"
   ]
  },
  {
   "cell_type": "code",
   "execution_count": 31,
   "id": "49d88950",
   "metadata": {
    "execution": {
     "iopub.execute_input": "2025-09-05T15:19:12.475580Z",
     "iopub.status.busy": "2025-09-05T15:19:12.475332Z",
     "iopub.status.idle": "2025-09-05T15:19:12.484357Z",
     "shell.execute_reply": "2025-09-05T15:19:12.483826Z"
    },
    "papermill": {
     "duration": 0.020832,
     "end_time": "2025-09-05T15:19:12.485554",
     "exception": false,
     "start_time": "2025-09-05T15:19:12.464722",
     "status": "completed"
    },
    "tags": []
   },
   "outputs": [],
   "source": [
    "submission.to_csv(\"submission.csv\", index=False)"
   ]
  }
 ],
 "metadata": {
  "kaggle": {
   "accelerator": "nvidiaTeslaT4",
   "dataSources": [
    {
     "databundleVersionId": 9809560,
     "isSourceIdPinned": false,
     "sourceId": 86518,
     "sourceType": "competition"
    },
    {
     "datasetId": 8209308,
     "sourceId": 12970628,
     "sourceType": "datasetVersion"
    },
    {
     "isSourceIdPinned": false,
     "modelId": 442777,
     "modelInstanceId": 425293,
     "sourceId": 562107,
     "sourceType": "modelInstanceVersion"
    }
   ],
   "dockerImageVersionId": 31089,
   "isGpuEnabled": true,
   "isInternetEnabled": false,
   "language": "python",
   "sourceType": "notebook"
  },
  "kernelspec": {
   "display_name": "Python 3 (ipykernel)",
   "language": "python",
   "name": "python3"
  },
  "language_info": {
   "codemirror_mode": {
    "name": "ipython",
    "version": 3
   },
   "file_extension": ".py",
   "mimetype": "text/x-python",
   "name": "python",
   "nbconvert_exporter": "python",
   "pygments_lexer": "ipython3",
   "version": "3.12.3"
  },
  "papermill": {
   "default_parameters": {},
   "duration": 188.413781,
   "end_time": "2025-09-05T15:19:16.017882",
   "environment_variables": {},
   "exception": null,
   "input_path": "__notebook__.ipynb",
   "output_path": "__notebook__.ipynb",
   "parameters": {},
   "start_time": "2025-09-05T15:16:07.604101",
   "version": "2.6.0"
  },
  "widgets": {
   "application/vnd.jupyter.widget-state+json": {
    "state": {
     "028fd4b0d1a44c608e77dc08021d885a": {
      "model_module": "@jupyter-widgets/controls",
      "model_module_version": "2.0.0",
      "model_name": "HTMLStyleModel",
      "state": {
       "_model_module": "@jupyter-widgets/controls",
       "_model_module_version": "2.0.0",
       "_model_name": "HTMLStyleModel",
       "_view_count": null,
       "_view_module": "@jupyter-widgets/base",
       "_view_module_version": "2.0.0",
       "_view_name": "StyleView",
       "background": null,
       "description_width": "",
       "font_size": null,
       "text_color": null
      }
     },
     "09f88ac758d249b3ad3fddc02cd11742": {
      "model_module": "@jupyter-widgets/controls",
      "model_module_version": "2.0.0",
      "model_name": "HBoxModel",
      "state": {
       "_dom_classes": [],
       "_model_module": "@jupyter-widgets/controls",
       "_model_module_version": "2.0.0",
       "_model_name": "HBoxModel",
       "_view_count": null,
       "_view_module": "@jupyter-widgets/controls",
       "_view_module_version": "2.0.0",
       "_view_name": "HBoxView",
       "box_style": "",
       "children": [
        "IPY_MODEL_71119a1928134f0e89bdd197367cfdb9",
        "IPY_MODEL_33cf0e13d08840958c67c1701ccd32f9",
        "IPY_MODEL_f7f5f99c541c441290ced3fc8a3f3101"
       ],
       "layout": "IPY_MODEL_cbb8f34e7ba642b292ebf2f57f0aa785",
       "tabbable": null,
       "tooltip": null
      }
     },
     "0a0c344bab99424fb96fb9cd9922ef7a": {
      "model_module": "@jupyter-widgets/base",
      "model_module_version": "2.0.0",
      "model_name": "LayoutModel",
      "state": {
       "_model_module": "@jupyter-widgets/base",
       "_model_module_version": "2.0.0",
       "_model_name": "LayoutModel",
       "_view_count": null,
       "_view_module": "@jupyter-widgets/base",
       "_view_module_version": "2.0.0",
       "_view_name": "LayoutView",
       "align_content": null,
       "align_items": null,
       "align_self": null,
       "border_bottom": null,
       "border_left": null,
       "border_right": null,
       "border_top": null,
       "bottom": null,
       "display": null,
       "flex": null,
       "flex_flow": null,
       "grid_area": null,
       "grid_auto_columns": null,
       "grid_auto_flow": null,
       "grid_auto_rows": null,
       "grid_column": null,
       "grid_gap": null,
       "grid_row": null,
       "grid_template_areas": null,
       "grid_template_columns": null,
       "grid_template_rows": null,
       "height": null,
       "justify_content": null,
       "justify_items": null,
       "left": null,
       "margin": null,
       "max_height": null,
       "max_width": null,
       "min_height": null,
       "min_width": null,
       "object_fit": null,
       "object_position": null,
       "order": null,
       "overflow": null,
       "padding": null,
       "right": null,
       "top": null,
       "visibility": null,
       "width": null
      }
     },
     "0cea2b841182482fb7d26e10f0db2974": {
      "model_module": "@jupyter-widgets/base",
      "model_module_version": "2.0.0",
      "model_name": "LayoutModel",
      "state": {
       "_model_module": "@jupyter-widgets/base",
       "_model_module_version": "2.0.0",
       "_model_name": "LayoutModel",
       "_view_count": null,
       "_view_module": "@jupyter-widgets/base",
       "_view_module_version": "2.0.0",
       "_view_name": "LayoutView",
       "align_content": null,
       "align_items": null,
       "align_self": null,
       "border_bottom": null,
       "border_left": null,
       "border_right": null,
       "border_top": null,
       "bottom": null,
       "display": null,
       "flex": null,
       "flex_flow": null,
       "grid_area": null,
       "grid_auto_columns": null,
       "grid_auto_flow": null,
       "grid_auto_rows": null,
       "grid_column": null,
       "grid_gap": null,
       "grid_row": null,
       "grid_template_areas": null,
       "grid_template_columns": null,
       "grid_template_rows": null,
       "height": null,
       "justify_content": null,
       "justify_items": null,
       "left": null,
       "margin": null,
       "max_height": null,
       "max_width": null,
       "min_height": null,
       "min_width": null,
       "object_fit": null,
       "object_position": null,
       "order": null,
       "overflow": null,
       "padding": null,
       "right": null,
       "top": null,
       "visibility": null,
       "width": null
      }
     },
     "0d14aef39f7a4d948f6c37b98406cf84": {
      "model_module": "@jupyter-widgets/controls",
      "model_module_version": "2.0.0",
      "model_name": "ProgressStyleModel",
      "state": {
       "_model_module": "@jupyter-widgets/controls",
       "_model_module_version": "2.0.0",
       "_model_name": "ProgressStyleModel",
       "_view_count": null,
       "_view_module": "@jupyter-widgets/base",
       "_view_module_version": "2.0.0",
       "_view_name": "StyleView",
       "bar_color": null,
       "description_width": ""
      }
     },
     "0f19270e25d24a9db57bde66e7e14a08": {
      "model_module": "@jupyter-widgets/controls",
      "model_module_version": "2.0.0",
      "model_name": "HBoxModel",
      "state": {
       "_dom_classes": [],
       "_model_module": "@jupyter-widgets/controls",
       "_model_module_version": "2.0.0",
       "_model_name": "HBoxModel",
       "_view_count": null,
       "_view_module": "@jupyter-widgets/controls",
       "_view_module_version": "2.0.0",
       "_view_name": "HBoxView",
       "box_style": "",
       "children": [
        "IPY_MODEL_94715ebce49f4b87826f549481e710d8",
        "IPY_MODEL_3ece4855b24446b8844076f30d5fa430",
        "IPY_MODEL_2ffb2ca544c348f38cc7ded11248e199"
       ],
       "layout": "IPY_MODEL_d39acc3e1fdf4335bcf0d647b694c2f6",
       "tabbable": null,
       "tooltip": null
      }
     },
     "110032c02623406ebd894d3e24d30068": {
      "model_module": "@jupyter-widgets/base",
      "model_module_version": "2.0.0",
      "model_name": "LayoutModel",
      "state": {
       "_model_module": "@jupyter-widgets/base",
       "_model_module_version": "2.0.0",
       "_model_name": "LayoutModel",
       "_view_count": null,
       "_view_module": "@jupyter-widgets/base",
       "_view_module_version": "2.0.0",
       "_view_name": "LayoutView",
       "align_content": null,
       "align_items": null,
       "align_self": null,
       "border_bottom": null,
       "border_left": null,
       "border_right": null,
       "border_top": null,
       "bottom": null,
       "display": null,
       "flex": null,
       "flex_flow": null,
       "grid_area": null,
       "grid_auto_columns": null,
       "grid_auto_flow": null,
       "grid_auto_rows": null,
       "grid_column": null,
       "grid_gap": null,
       "grid_row": null,
       "grid_template_areas": null,
       "grid_template_columns": null,
       "grid_template_rows": null,
       "height": null,
       "justify_content": null,
       "justify_items": null,
       "left": null,
       "margin": null,
       "max_height": null,
       "max_width": null,
       "min_height": null,
       "min_width": null,
       "object_fit": null,
       "object_position": null,
       "order": null,
       "overflow": null,
       "padding": null,
       "right": null,
       "top": null,
       "visibility": null,
       "width": null
      }
     },
     "1bfa4a8991694e6b82f3e509f127cf18": {
      "model_module": "@jupyter-widgets/controls",
      "model_module_version": "2.0.0",
      "model_name": "HBoxModel",
      "state": {
       "_dom_classes": [],
       "_model_module": "@jupyter-widgets/controls",
       "_model_module_version": "2.0.0",
       "_model_name": "HBoxModel",
       "_view_count": null,
       "_view_module": "@jupyter-widgets/controls",
       "_view_module_version": "2.0.0",
       "_view_name": "HBoxView",
       "box_style": "",
       "children": [
        "IPY_MODEL_ada387cdb8d44d9b81a2832a79fd834b",
        "IPY_MODEL_b4c6fdb7403c4d859c5e7fef7dc0de27",
        "IPY_MODEL_e0b3e61121de40cbbf03d2200e4f54f1"
       ],
       "layout": "IPY_MODEL_45ffca56985a44c6accec12dd5adc11e",
       "tabbable": null,
       "tooltip": null
      }
     },
     "1cf50f50b3594ecd8dcea958a5760d27": {
      "model_module": "@jupyter-widgets/controls",
      "model_module_version": "2.0.0",
      "model_name": "HTMLStyleModel",
      "state": {
       "_model_module": "@jupyter-widgets/controls",
       "_model_module_version": "2.0.0",
       "_model_name": "HTMLStyleModel",
       "_view_count": null,
       "_view_module": "@jupyter-widgets/base",
       "_view_module_version": "2.0.0",
       "_view_name": "StyleView",
       "background": null,
       "description_width": "",
       "font_size": null,
       "text_color": null
      }
     },
     "1f3797fb77754a03a9c9a307463eac79": {
      "model_module": "@jupyter-widgets/controls",
      "model_module_version": "2.0.0",
      "model_name": "HBoxModel",
      "state": {
       "_dom_classes": [],
       "_model_module": "@jupyter-widgets/controls",
       "_model_module_version": "2.0.0",
       "_model_name": "HBoxModel",
       "_view_count": null,
       "_view_module": "@jupyter-widgets/controls",
       "_view_module_version": "2.0.0",
       "_view_name": "HBoxView",
       "box_style": "",
       "children": [
        "IPY_MODEL_bedbcd5122654b669ac855ee7bce8abe",
        "IPY_MODEL_466b11b73376412490bd32a11312af66",
        "IPY_MODEL_f050812a3f6c485aab7f9c2efdb0f2d3"
       ],
       "layout": "IPY_MODEL_595f4e963f42465f8662be3d2b78f64e",
       "tabbable": null,
       "tooltip": null
      }
     },
     "203dec3b9d064d799b9ac12c7ba39f09": {
      "model_module": "@jupyter-widgets/controls",
      "model_module_version": "2.0.0",
      "model_name": "ProgressStyleModel",
      "state": {
       "_model_module": "@jupyter-widgets/controls",
       "_model_module_version": "2.0.0",
       "_model_name": "ProgressStyleModel",
       "_view_count": null,
       "_view_module": "@jupyter-widgets/base",
       "_view_module_version": "2.0.0",
       "_view_name": "StyleView",
       "bar_color": null,
       "description_width": ""
      }
     },
     "22efedb09a4d460692e4171bb81acfd1": {
      "model_module": "@jupyter-widgets/base",
      "model_module_version": "2.0.0",
      "model_name": "LayoutModel",
      "state": {
       "_model_module": "@jupyter-widgets/base",
       "_model_module_version": "2.0.0",
       "_model_name": "LayoutModel",
       "_view_count": null,
       "_view_module": "@jupyter-widgets/base",
       "_view_module_version": "2.0.0",
       "_view_name": "LayoutView",
       "align_content": null,
       "align_items": null,
       "align_self": null,
       "border_bottom": null,
       "border_left": null,
       "border_right": null,
       "border_top": null,
       "bottom": null,
       "display": null,
       "flex": null,
       "flex_flow": null,
       "grid_area": null,
       "grid_auto_columns": null,
       "grid_auto_flow": null,
       "grid_auto_rows": null,
       "grid_column": null,
       "grid_gap": null,
       "grid_row": null,
       "grid_template_areas": null,
       "grid_template_columns": null,
       "grid_template_rows": null,
       "height": null,
       "justify_content": null,
       "justify_items": null,
       "left": null,
       "margin": null,
       "max_height": null,
       "max_width": null,
       "min_height": null,
       "min_width": null,
       "object_fit": null,
       "object_position": null,
       "order": null,
       "overflow": null,
       "padding": null,
       "right": null,
       "top": null,
       "visibility": null,
       "width": null
      }
     },
     "24003d79b9574e66aeca4c4c8b333ad8": {
      "model_module": "@jupyter-widgets/controls",
      "model_module_version": "2.0.0",
      "model_name": "HTMLStyleModel",
      "state": {
       "_model_module": "@jupyter-widgets/controls",
       "_model_module_version": "2.0.0",
       "_model_name": "HTMLStyleModel",
       "_view_count": null,
       "_view_module": "@jupyter-widgets/base",
       "_view_module_version": "2.0.0",
       "_view_name": "StyleView",
       "background": null,
       "description_width": "",
       "font_size": null,
       "text_color": null
      }
     },
     "2e744e9273404c9294625ad7979fe1c9": {
      "model_module": "@jupyter-widgets/controls",
      "model_module_version": "2.0.0",
      "model_name": "HBoxModel",
      "state": {
       "_dom_classes": [],
       "_model_module": "@jupyter-widgets/controls",
       "_model_module_version": "2.0.0",
       "_model_name": "HBoxModel",
       "_view_count": null,
       "_view_module": "@jupyter-widgets/controls",
       "_view_module_version": "2.0.0",
       "_view_name": "HBoxView",
       "box_style": "",
       "children": [
        "IPY_MODEL_2f5597ad22e64878b9f69c24e5c55ac4",
        "IPY_MODEL_62627c4d71f8410f84cafa1a57baaa55",
        "IPY_MODEL_a17841805a2b42b59924641742439ae9"
       ],
       "layout": "IPY_MODEL_6543b07a525a421c9a3e39ee254efcc5",
       "tabbable": null,
       "tooltip": null
      }
     },
     "2f5597ad22e64878b9f69c24e5c55ac4": {
      "model_module": "@jupyter-widgets/controls",
      "model_module_version": "2.0.0",
      "model_name": "HTMLModel",
      "state": {
       "_dom_classes": [],
       "_model_module": "@jupyter-widgets/controls",
       "_model_module_version": "2.0.0",
       "_model_name": "HTMLModel",
       "_view_count": null,
       "_view_module": "@jupyter-widgets/controls",
       "_view_module_version": "2.0.0",
       "_view_name": "HTMLView",
       "description": "",
       "description_allow_html": false,
       "layout": "IPY_MODEL_cf625d0b82f9403cb1233abaac5e3cd9",
       "placeholder": "​",
       "style": "IPY_MODEL_028fd4b0d1a44c608e77dc08021d885a",
       "tabbable": null,
       "tooltip": null,
       "value": "Computing checksums: 100%"
      }
     },
     "2ffb2ca544c348f38cc7ded11248e199": {
      "model_module": "@jupyter-widgets/controls",
      "model_module_version": "2.0.0",
      "model_name": "HTMLModel",
      "state": {
       "_dom_classes": [],
       "_model_module": "@jupyter-widgets/controls",
       "_model_module_version": "2.0.0",
       "_model_name": "HTMLModel",
       "_view_count": null,
       "_view_module": "@jupyter-widgets/controls",
       "_view_module_version": "2.0.0",
       "_view_name": "HTMLView",
       "description": "",
       "description_allow_html": false,
       "layout": "IPY_MODEL_7ef3f6672ab644c3b9393f06e6fd9f15",
       "placeholder": "​",
       "style": "IPY_MODEL_34f89dad0b524b489d4caff0ec3a31c3",
       "tabbable": null,
       "tooltip": null,
       "value": " 1/1 [00:00&lt;00:00, 143.02it/s]"
      }
     },
     "316d1884a4b148d7ba7bdc213d30eeae": {
      "model_module": "@jupyter-widgets/base",
      "model_module_version": "2.0.0",
      "model_name": "LayoutModel",
      "state": {
       "_model_module": "@jupyter-widgets/base",
       "_model_module_version": "2.0.0",
       "_model_name": "LayoutModel",
       "_view_count": null,
       "_view_module": "@jupyter-widgets/base",
       "_view_module_version": "2.0.0",
       "_view_name": "LayoutView",
       "align_content": null,
       "align_items": null,
       "align_self": null,
       "border_bottom": null,
       "border_left": null,
       "border_right": null,
       "border_top": null,
       "bottom": null,
       "display": null,
       "flex": null,
       "flex_flow": null,
       "grid_area": null,
       "grid_auto_columns": null,
       "grid_auto_flow": null,
       "grid_auto_rows": null,
       "grid_column": null,
       "grid_gap": null,
       "grid_row": null,
       "grid_template_areas": null,
       "grid_template_columns": null,
       "grid_template_rows": null,
       "height": null,
       "justify_content": null,
       "justify_items": null,
       "left": null,
       "margin": null,
       "max_height": null,
       "max_width": null,
       "min_height": null,
       "min_width": null,
       "object_fit": null,
       "object_position": null,
       "order": null,
       "overflow": null,
       "padding": null,
       "right": null,
       "top": null,
       "visibility": null,
       "width": null
      }
     },
     "33cf0e13d08840958c67c1701ccd32f9": {
      "model_module": "@jupyter-widgets/controls",
      "model_module_version": "2.0.0",
      "model_name": "FloatProgressModel",
      "state": {
       "_dom_classes": [],
       "_model_module": "@jupyter-widgets/controls",
       "_model_module_version": "2.0.0",
       "_model_name": "FloatProgressModel",
       "_view_count": null,
       "_view_module": "@jupyter-widgets/controls",
       "_view_module_version": "2.0.0",
       "_view_name": "ProgressView",
       "bar_style": "success",
       "description": "",
       "description_allow_html": false,
       "layout": "IPY_MODEL_e94269ff1a534b8f99a2ae5e544a8ef5",
       "max": 57477,
       "min": 0,
       "orientation": "horizontal",
       "style": "IPY_MODEL_c59b876772a0436d98d1de6a7bbd1dd0",
       "tabbable": null,
       "tooltip": null,
       "value": 57477
      }
     },
     "34f89dad0b524b489d4caff0ec3a31c3": {
      "model_module": "@jupyter-widgets/controls",
      "model_module_version": "2.0.0",
      "model_name": "HTMLStyleModel",
      "state": {
       "_model_module": "@jupyter-widgets/controls",
       "_model_module_version": "2.0.0",
       "_model_name": "HTMLStyleModel",
       "_view_count": null,
       "_view_module": "@jupyter-widgets/base",
       "_view_module_version": "2.0.0",
       "_view_name": "StyleView",
       "background": null,
       "description_width": "",
       "font_size": null,
       "text_color": null
      }
     },
     "370f6a28f7394510af9be2de31b2418c": {
      "model_module": "@jupyter-widgets/base",
      "model_module_version": "2.0.0",
      "model_name": "LayoutModel",
      "state": {
       "_model_module": "@jupyter-widgets/base",
       "_model_module_version": "2.0.0",
       "_model_name": "LayoutModel",
       "_view_count": null,
       "_view_module": "@jupyter-widgets/base",
       "_view_module_version": "2.0.0",
       "_view_name": "LayoutView",
       "align_content": null,
       "align_items": null,
       "align_self": null,
       "border_bottom": null,
       "border_left": null,
       "border_right": null,
       "border_top": null,
       "bottom": null,
       "display": null,
       "flex": null,
       "flex_flow": null,
       "grid_area": null,
       "grid_auto_columns": null,
       "grid_auto_flow": null,
       "grid_auto_rows": null,
       "grid_column": null,
       "grid_gap": null,
       "grid_row": null,
       "grid_template_areas": null,
       "grid_template_columns": null,
       "grid_template_rows": null,
       "height": null,
       "justify_content": null,
       "justify_items": null,
       "left": null,
       "margin": null,
       "max_height": null,
       "max_width": null,
       "min_height": null,
       "min_width": null,
       "object_fit": null,
       "object_position": null,
       "order": null,
       "overflow": null,
       "padding": null,
       "right": null,
       "top": null,
       "visibility": null,
       "width": null
      }
     },
     "3a199f24e9664284a9bb6bfaf3590a03": {
      "model_module": "@jupyter-widgets/base",
      "model_module_version": "2.0.0",
      "model_name": "LayoutModel",
      "state": {
       "_model_module": "@jupyter-widgets/base",
       "_model_module_version": "2.0.0",
       "_model_name": "LayoutModel",
       "_view_count": null,
       "_view_module": "@jupyter-widgets/base",
       "_view_module_version": "2.0.0",
       "_view_name": "LayoutView",
       "align_content": null,
       "align_items": null,
       "align_self": null,
       "border_bottom": null,
       "border_left": null,
       "border_right": null,
       "border_top": null,
       "bottom": null,
       "display": null,
       "flex": null,
       "flex_flow": null,
       "grid_area": null,
       "grid_auto_columns": null,
       "grid_auto_flow": null,
       "grid_auto_rows": null,
       "grid_column": null,
       "grid_gap": null,
       "grid_row": null,
       "grid_template_areas": null,
       "grid_template_columns": null,
       "grid_template_rows": null,
       "height": null,
       "justify_content": null,
       "justify_items": null,
       "left": null,
       "margin": null,
       "max_height": null,
       "max_width": null,
       "min_height": null,
       "min_width": null,
       "object_fit": null,
       "object_position": null,
       "order": null,
       "overflow": null,
       "padding": null,
       "right": null,
       "top": null,
       "visibility": null,
       "width": "20px"
      }
     },
     "3ece4855b24446b8844076f30d5fa430": {
      "model_module": "@jupyter-widgets/controls",
      "model_module_version": "2.0.0",
      "model_name": "FloatProgressModel",
      "state": {
       "_dom_classes": [],
       "_model_module": "@jupyter-widgets/controls",
       "_model_module_version": "2.0.0",
       "_model_name": "FloatProgressModel",
       "_view_count": null,
       "_view_module": "@jupyter-widgets/controls",
       "_view_module_version": "2.0.0",
       "_view_name": "ProgressView",
       "bar_style": "success",
       "description": "",
       "description_allow_html": false,
       "layout": "IPY_MODEL_f330389187d44072807b25b926192243",
       "max": 1,
       "min": 0,
       "orientation": "horizontal",
       "style": "IPY_MODEL_203dec3b9d064d799b9ac12c7ba39f09",
       "tabbable": null,
       "tooltip": null,
       "value": 1
      }
     },
     "3f390c844cc74666b92938915bf9b29d": {
      "model_module": "@jupyter-widgets/controls",
      "model_module_version": "2.0.0",
      "model_name": "HBoxModel",
      "state": {
       "_dom_classes": [],
       "_model_module": "@jupyter-widgets/controls",
       "_model_module_version": "2.0.0",
       "_model_name": "HBoxModel",
       "_view_count": null,
       "_view_module": "@jupyter-widgets/controls",
       "_view_module_version": "2.0.0",
       "_view_name": "HBoxView",
       "box_style": "",
       "children": [
        "IPY_MODEL_d6db2130834d4f1aaf54f3089ebef32c",
        "IPY_MODEL_963de1d29d0d4972b831f95349b87a00",
        "IPY_MODEL_475ed4a382cd4a1282933eb4ea3f01ab"
       ],
       "layout": "IPY_MODEL_0cea2b841182482fb7d26e10f0db2974",
       "tabbable": null,
       "tooltip": null
      }
     },
     "41cabba98cb547e883284405e7a5b093": {
      "model_module": "@jupyter-widgets/controls",
      "model_module_version": "2.0.0",
      "model_name": "HTMLStyleModel",
      "state": {
       "_model_module": "@jupyter-widgets/controls",
       "_model_module_version": "2.0.0",
       "_model_name": "HTMLStyleModel",
       "_view_count": null,
       "_view_module": "@jupyter-widgets/base",
       "_view_module_version": "2.0.0",
       "_view_name": "StyleView",
       "background": null,
       "description_width": "",
       "font_size": null,
       "text_color": null
      }
     },
     "421cfa33a48842af8857b76ed672ce25": {
      "model_module": "@jupyter-widgets/base",
      "model_module_version": "2.0.0",
      "model_name": "LayoutModel",
      "state": {
       "_model_module": "@jupyter-widgets/base",
       "_model_module_version": "2.0.0",
       "_model_name": "LayoutModel",
       "_view_count": null,
       "_view_module": "@jupyter-widgets/base",
       "_view_module_version": "2.0.0",
       "_view_name": "LayoutView",
       "align_content": null,
       "align_items": null,
       "align_self": null,
       "border_bottom": null,
       "border_left": null,
       "border_right": null,
       "border_top": null,
       "bottom": null,
       "display": null,
       "flex": null,
       "flex_flow": null,
       "grid_area": null,
       "grid_auto_columns": null,
       "grid_auto_flow": null,
       "grid_auto_rows": null,
       "grid_column": null,
       "grid_gap": null,
       "grid_row": null,
       "grid_template_areas": null,
       "grid_template_columns": null,
       "grid_template_rows": null,
       "height": null,
       "justify_content": null,
       "justify_items": null,
       "left": null,
       "margin": null,
       "max_height": null,
       "max_width": null,
       "min_height": null,
       "min_width": null,
       "object_fit": null,
       "object_position": null,
       "order": null,
       "overflow": null,
       "padding": null,
       "right": null,
       "top": null,
       "visibility": null,
       "width": null
      }
     },
     "45ffca56985a44c6accec12dd5adc11e": {
      "model_module": "@jupyter-widgets/base",
      "model_module_version": "2.0.0",
      "model_name": "LayoutModel",
      "state": {
       "_model_module": "@jupyter-widgets/base",
       "_model_module_version": "2.0.0",
       "_model_name": "LayoutModel",
       "_view_count": null,
       "_view_module": "@jupyter-widgets/base",
       "_view_module_version": "2.0.0",
       "_view_name": "LayoutView",
       "align_content": null,
       "align_items": null,
       "align_self": null,
       "border_bottom": null,
       "border_left": null,
       "border_right": null,
       "border_top": null,
       "bottom": null,
       "display": null,
       "flex": null,
       "flex_flow": null,
       "grid_area": null,
       "grid_auto_columns": null,
       "grid_auto_flow": null,
       "grid_auto_rows": null,
       "grid_column": null,
       "grid_gap": null,
       "grid_row": null,
       "grid_template_areas": null,
       "grid_template_columns": null,
       "grid_template_rows": null,
       "height": null,
       "justify_content": null,
       "justify_items": null,
       "left": null,
       "margin": null,
       "max_height": null,
       "max_width": null,
       "min_height": null,
       "min_width": null,
       "object_fit": null,
       "object_position": null,
       "order": null,
       "overflow": null,
       "padding": null,
       "right": null,
       "top": null,
       "visibility": null,
       "width": null
      }
     },
     "466b11b73376412490bd32a11312af66": {
      "model_module": "@jupyter-widgets/controls",
      "model_module_version": "2.0.0",
      "model_name": "FloatProgressModel",
      "state": {
       "_dom_classes": [],
       "_model_module": "@jupyter-widgets/controls",
       "_model_module_version": "2.0.0",
       "_model_name": "FloatProgressModel",
       "_view_count": null,
       "_view_module": "@jupyter-widgets/controls",
       "_view_module_version": "2.0.0",
       "_view_name": "ProgressView",
       "bar_style": "success",
       "description": "",
       "description_allow_html": false,
       "layout": "IPY_MODEL_c1a37800201b42ce9041d763746785ca",
       "max": 1,
       "min": 0,
       "orientation": "horizontal",
       "style": "IPY_MODEL_9abbf9af359f415b8197689297c3a313",
       "tabbable": null,
       "tooltip": null,
       "value": 1
      }
     },
     "4686b8fcadd843de90c3083d901db2c0": {
      "model_module": "@jupyter-widgets/base",
      "model_module_version": "2.0.0",
      "model_name": "LayoutModel",
      "state": {
       "_model_module": "@jupyter-widgets/base",
       "_model_module_version": "2.0.0",
       "_model_name": "LayoutModel",
       "_view_count": null,
       "_view_module": "@jupyter-widgets/base",
       "_view_module_version": "2.0.0",
       "_view_name": "LayoutView",
       "align_content": null,
       "align_items": null,
       "align_self": null,
       "border_bottom": null,
       "border_left": null,
       "border_right": null,
       "border_top": null,
       "bottom": null,
       "display": null,
       "flex": null,
       "flex_flow": null,
       "grid_area": null,
       "grid_auto_columns": null,
       "grid_auto_flow": null,
       "grid_auto_rows": null,
       "grid_column": null,
       "grid_gap": null,
       "grid_row": null,
       "grid_template_areas": null,
       "grid_template_columns": null,
       "grid_template_rows": null,
       "height": null,
       "justify_content": null,
       "justify_items": null,
       "left": null,
       "margin": null,
       "max_height": null,
       "max_width": null,
       "min_height": null,
       "min_width": null,
       "object_fit": null,
       "object_position": null,
       "order": null,
       "overflow": null,
       "padding": null,
       "right": null,
       "top": null,
       "visibility": null,
       "width": null
      }
     },
     "475ed4a382cd4a1282933eb4ea3f01ab": {
      "model_module": "@jupyter-widgets/controls",
      "model_module_version": "2.0.0",
      "model_name": "HTMLModel",
      "state": {
       "_dom_classes": [],
       "_model_module": "@jupyter-widgets/controls",
       "_model_module_version": "2.0.0",
       "_model_name": "HTMLModel",
       "_view_count": null,
       "_view_module": "@jupyter-widgets/controls",
       "_view_module_version": "2.0.0",
       "_view_name": "HTMLView",
       "description": "",
       "description_allow_html": false,
       "layout": "IPY_MODEL_81730d590bba435eb2f57844a2eaec86",
       "placeholder": "​",
       "style": "IPY_MODEL_620d95697986448eae72fc04f1557215",
       "tabbable": null,
       "tooltip": null,
       "value": " 3/3 [00:00&lt;00:00, 28.03 examples/s]"
      }
     },
     "4c1182c8a9114f20801794ddcc152e71": {
      "model_module": "@jupyter-widgets/controls",
      "model_module_version": "2.0.0",
      "model_name": "HTMLStyleModel",
      "state": {
       "_model_module": "@jupyter-widgets/controls",
       "_model_module_version": "2.0.0",
       "_model_name": "HTMLStyleModel",
       "_view_count": null,
       "_view_module": "@jupyter-widgets/base",
       "_view_module_version": "2.0.0",
       "_view_name": "StyleView",
       "background": null,
       "description_width": "",
       "font_size": null,
       "text_color": null
      }
     },
     "595f4e963f42465f8662be3d2b78f64e": {
      "model_module": "@jupyter-widgets/base",
      "model_module_version": "2.0.0",
      "model_name": "LayoutModel",
      "state": {
       "_model_module": "@jupyter-widgets/base",
       "_model_module_version": "2.0.0",
       "_model_name": "LayoutModel",
       "_view_count": null,
       "_view_module": "@jupyter-widgets/base",
       "_view_module_version": "2.0.0",
       "_view_name": "LayoutView",
       "align_content": null,
       "align_items": null,
       "align_self": null,
       "border_bottom": null,
       "border_left": null,
       "border_right": null,
       "border_top": null,
       "bottom": null,
       "display": null,
       "flex": null,
       "flex_flow": null,
       "grid_area": null,
       "grid_auto_columns": null,
       "grid_auto_flow": null,
       "grid_auto_rows": null,
       "grid_column": null,
       "grid_gap": null,
       "grid_row": null,
       "grid_template_areas": null,
       "grid_template_columns": null,
       "grid_template_rows": null,
       "height": null,
       "justify_content": null,
       "justify_items": null,
       "left": null,
       "margin": null,
       "max_height": null,
       "max_width": null,
       "min_height": null,
       "min_width": null,
       "object_fit": null,
       "object_position": null,
       "order": null,
       "overflow": null,
       "padding": null,
       "right": null,
       "top": null,
       "visibility": null,
       "width": null
      }
     },
     "61eb20f4bf5f42b780778e2cb28e7e81": {
      "model_module": "@jupyter-widgets/controls",
      "model_module_version": "2.0.0",
      "model_name": "HTMLStyleModel",
      "state": {
       "_model_module": "@jupyter-widgets/controls",
       "_model_module_version": "2.0.0",
       "_model_name": "HTMLStyleModel",
       "_view_count": null,
       "_view_module": "@jupyter-widgets/base",
       "_view_module_version": "2.0.0",
       "_view_name": "StyleView",
       "background": null,
       "description_width": "",
       "font_size": null,
       "text_color": null
      }
     },
     "620d95697986448eae72fc04f1557215": {
      "model_module": "@jupyter-widgets/controls",
      "model_module_version": "2.0.0",
      "model_name": "HTMLStyleModel",
      "state": {
       "_model_module": "@jupyter-widgets/controls",
       "_model_module_version": "2.0.0",
       "_model_name": "HTMLStyleModel",
       "_view_count": null,
       "_view_module": "@jupyter-widgets/base",
       "_view_module_version": "2.0.0",
       "_view_name": "StyleView",
       "background": null,
       "description_width": "",
       "font_size": null,
       "text_color": null
      }
     },
     "62627c4d71f8410f84cafa1a57baaa55": {
      "model_module": "@jupyter-widgets/controls",
      "model_module_version": "2.0.0",
      "model_name": "FloatProgressModel",
      "state": {
       "_dom_classes": [],
       "_model_module": "@jupyter-widgets/controls",
       "_model_module_version": "2.0.0",
       "_model_name": "FloatProgressModel",
       "_view_count": null,
       "_view_module": "@jupyter-widgets/controls",
       "_view_module_version": "2.0.0",
       "_view_name": "ProgressView",
       "bar_style": "success",
       "description": "",
       "description_allow_html": false,
       "layout": "IPY_MODEL_370f6a28f7394510af9be2de31b2418c",
       "max": 1,
       "min": 0,
       "orientation": "horizontal",
       "style": "IPY_MODEL_da7cedb1a69a4573bb0a3990b06c6273",
       "tabbable": null,
       "tooltip": null,
       "value": 1
      }
     },
     "6543b07a525a421c9a3e39ee254efcc5": {
      "model_module": "@jupyter-widgets/base",
      "model_module_version": "2.0.0",
      "model_name": "LayoutModel",
      "state": {
       "_model_module": "@jupyter-widgets/base",
       "_model_module_version": "2.0.0",
       "_model_name": "LayoutModel",
       "_view_count": null,
       "_view_module": "@jupyter-widgets/base",
       "_view_module_version": "2.0.0",
       "_view_name": "LayoutView",
       "align_content": null,
       "align_items": null,
       "align_self": null,
       "border_bottom": null,
       "border_left": null,
       "border_right": null,
       "border_top": null,
       "bottom": null,
       "display": null,
       "flex": null,
       "flex_flow": null,
       "grid_area": null,
       "grid_auto_columns": null,
       "grid_auto_flow": null,
       "grid_auto_rows": null,
       "grid_column": null,
       "grid_gap": null,
       "grid_row": null,
       "grid_template_areas": null,
       "grid_template_columns": null,
       "grid_template_rows": null,
       "height": null,
       "justify_content": null,
       "justify_items": null,
       "left": null,
       "margin": null,
       "max_height": null,
       "max_width": null,
       "min_height": null,
       "min_width": null,
       "object_fit": null,
       "object_position": null,
       "order": null,
       "overflow": null,
       "padding": null,
       "right": null,
       "top": null,
       "visibility": null,
       "width": null
      }
     },
     "71119a1928134f0e89bdd197367cfdb9": {
      "model_module": "@jupyter-widgets/controls",
      "model_module_version": "2.0.0",
      "model_name": "HTMLModel",
      "state": {
       "_dom_classes": [],
       "_model_module": "@jupyter-widgets/controls",
       "_model_module_version": "2.0.0",
       "_model_name": "HTMLModel",
       "_view_count": null,
       "_view_module": "@jupyter-widgets/controls",
       "_view_module_version": "2.0.0",
       "_view_name": "HTMLView",
       "description": "",
       "description_allow_html": false,
       "layout": "IPY_MODEL_22efedb09a4d460692e4171bb81acfd1",
       "placeholder": "​",
       "style": "IPY_MODEL_24003d79b9574e66aeca4c4c8b333ad8",
       "tabbable": null,
       "tooltip": null,
       "value": "Map (num_proc=8): 100%"
      }
     },
     "71f1d1d5994c4ba39dedcfc0da2fad36": {
      "model_module": "@jupyter-widgets/base",
      "model_module_version": "2.0.0",
      "model_name": "LayoutModel",
      "state": {
       "_model_module": "@jupyter-widgets/base",
       "_model_module_version": "2.0.0",
       "_model_name": "LayoutModel",
       "_view_count": null,
       "_view_module": "@jupyter-widgets/base",
       "_view_module_version": "2.0.0",
       "_view_name": "LayoutView",
       "align_content": null,
       "align_items": null,
       "align_self": null,
       "border_bottom": null,
       "border_left": null,
       "border_right": null,
       "border_top": null,
       "bottom": null,
       "display": null,
       "flex": null,
       "flex_flow": null,
       "grid_area": null,
       "grid_auto_columns": null,
       "grid_auto_flow": null,
       "grid_auto_rows": null,
       "grid_column": null,
       "grid_gap": null,
       "grid_row": null,
       "grid_template_areas": null,
       "grid_template_columns": null,
       "grid_template_rows": null,
       "height": null,
       "justify_content": null,
       "justify_items": null,
       "left": null,
       "margin": null,
       "max_height": null,
       "max_width": null,
       "min_height": null,
       "min_width": null,
       "object_fit": null,
       "object_position": null,
       "order": null,
       "overflow": null,
       "padding": null,
       "right": null,
       "top": null,
       "visibility": null,
       "width": null
      }
     },
     "79970ceeb2a34f2481e145f6f4d7f44e": {
      "model_module": "@jupyter-widgets/controls",
      "model_module_version": "2.0.0",
      "model_name": "HTMLStyleModel",
      "state": {
       "_model_module": "@jupyter-widgets/controls",
       "_model_module_version": "2.0.0",
       "_model_name": "HTMLStyleModel",
       "_view_count": null,
       "_view_module": "@jupyter-widgets/base",
       "_view_module_version": "2.0.0",
       "_view_name": "StyleView",
       "background": null,
       "description_width": "",
       "font_size": null,
       "text_color": null
      }
     },
     "7ef3f6672ab644c3b9393f06e6fd9f15": {
      "model_module": "@jupyter-widgets/base",
      "model_module_version": "2.0.0",
      "model_name": "LayoutModel",
      "state": {
       "_model_module": "@jupyter-widgets/base",
       "_model_module_version": "2.0.0",
       "_model_name": "LayoutModel",
       "_view_count": null,
       "_view_module": "@jupyter-widgets/base",
       "_view_module_version": "2.0.0",
       "_view_name": "LayoutView",
       "align_content": null,
       "align_items": null,
       "align_self": null,
       "border_bottom": null,
       "border_left": null,
       "border_right": null,
       "border_top": null,
       "bottom": null,
       "display": null,
       "flex": null,
       "flex_flow": null,
       "grid_area": null,
       "grid_auto_columns": null,
       "grid_auto_flow": null,
       "grid_auto_rows": null,
       "grid_column": null,
       "grid_gap": null,
       "grid_row": null,
       "grid_template_areas": null,
       "grid_template_columns": null,
       "grid_template_rows": null,
       "height": null,
       "justify_content": null,
       "justify_items": null,
       "left": null,
       "margin": null,
       "max_height": null,
       "max_width": null,
       "min_height": null,
       "min_width": null,
       "object_fit": null,
       "object_position": null,
       "order": null,
       "overflow": null,
       "padding": null,
       "right": null,
       "top": null,
       "visibility": null,
       "width": null
      }
     },
     "81730d590bba435eb2f57844a2eaec86": {
      "model_module": "@jupyter-widgets/base",
      "model_module_version": "2.0.0",
      "model_name": "LayoutModel",
      "state": {
       "_model_module": "@jupyter-widgets/base",
       "_model_module_version": "2.0.0",
       "_model_name": "LayoutModel",
       "_view_count": null,
       "_view_module": "@jupyter-widgets/base",
       "_view_module_version": "2.0.0",
       "_view_name": "LayoutView",
       "align_content": null,
       "align_items": null,
       "align_self": null,
       "border_bottom": null,
       "border_left": null,
       "border_right": null,
       "border_top": null,
       "bottom": null,
       "display": null,
       "flex": null,
       "flex_flow": null,
       "grid_area": null,
       "grid_auto_columns": null,
       "grid_auto_flow": null,
       "grid_auto_rows": null,
       "grid_column": null,
       "grid_gap": null,
       "grid_row": null,
       "grid_template_areas": null,
       "grid_template_columns": null,
       "grid_template_rows": null,
       "height": null,
       "justify_content": null,
       "justify_items": null,
       "left": null,
       "margin": null,
       "max_height": null,
       "max_width": null,
       "min_height": null,
       "min_width": null,
       "object_fit": null,
       "object_position": null,
       "order": null,
       "overflow": null,
       "padding": null,
       "right": null,
       "top": null,
       "visibility": null,
       "width": null
      }
     },
     "94715ebce49f4b87826f549481e710d8": {
      "model_module": "@jupyter-widgets/controls",
      "model_module_version": "2.0.0",
      "model_name": "HTMLModel",
      "state": {
       "_dom_classes": [],
       "_model_module": "@jupyter-widgets/controls",
       "_model_module_version": "2.0.0",
       "_model_name": "HTMLModel",
       "_view_count": null,
       "_view_module": "@jupyter-widgets/controls",
       "_view_module_version": "2.0.0",
       "_view_name": "HTMLView",
       "description": "",
       "description_allow_html": false,
       "layout": "IPY_MODEL_d1141787f50248dc9f07ba4d0af5ac2f",
       "placeholder": "​",
       "style": "IPY_MODEL_1cf50f50b3594ecd8dcea958a5760d27",
       "tabbable": null,
       "tooltip": null,
       "value": "Computing checksums: 100%"
      }
     },
     "963de1d29d0d4972b831f95349b87a00": {
      "model_module": "@jupyter-widgets/controls",
      "model_module_version": "2.0.0",
      "model_name": "FloatProgressModel",
      "state": {
       "_dom_classes": [],
       "_model_module": "@jupyter-widgets/controls",
       "_model_module_version": "2.0.0",
       "_model_name": "FloatProgressModel",
       "_view_count": null,
       "_view_module": "@jupyter-widgets/controls",
       "_view_module_version": "2.0.0",
       "_view_name": "ProgressView",
       "bar_style": "success",
       "description": "",
       "description_allow_html": false,
       "layout": "IPY_MODEL_ffa287c271834fd3a782e4fdf945939b",
       "max": 3,
       "min": 0,
       "orientation": "horizontal",
       "style": "IPY_MODEL_e8399b50055249d985058335b457db6c",
       "tabbable": null,
       "tooltip": null,
       "value": 3
      }
     },
     "98b2e93c495c4ffb923811276465955c": {
      "model_module": "@jupyter-widgets/controls",
      "model_module_version": "2.0.0",
      "model_name": "HTMLStyleModel",
      "state": {
       "_model_module": "@jupyter-widgets/controls",
       "_model_module_version": "2.0.0",
       "_model_name": "HTMLStyleModel",
       "_view_count": null,
       "_view_module": "@jupyter-widgets/base",
       "_view_module_version": "2.0.0",
       "_view_name": "StyleView",
       "background": null,
       "description_width": "",
       "font_size": null,
       "text_color": null
      }
     },
     "9957f342f2a947aaaf298d788153e893": {
      "model_module": "@jupyter-widgets/controls",
      "model_module_version": "2.0.0",
      "model_name": "HTMLStyleModel",
      "state": {
       "_model_module": "@jupyter-widgets/controls",
       "_model_module_version": "2.0.0",
       "_model_name": "HTMLStyleModel",
       "_view_count": null,
       "_view_module": "@jupyter-widgets/base",
       "_view_module_version": "2.0.0",
       "_view_name": "StyleView",
       "background": null,
       "description_width": "",
       "font_size": null,
       "text_color": null
      }
     },
     "9abbf9af359f415b8197689297c3a313": {
      "model_module": "@jupyter-widgets/controls",
      "model_module_version": "2.0.0",
      "model_name": "ProgressStyleModel",
      "state": {
       "_model_module": "@jupyter-widgets/controls",
       "_model_module_version": "2.0.0",
       "_model_name": "ProgressStyleModel",
       "_view_count": null,
       "_view_module": "@jupyter-widgets/base",
       "_view_module_version": "2.0.0",
       "_view_name": "StyleView",
       "bar_color": null,
       "description_width": ""
      }
     },
     "9d84c36414b84072b1c539235d5102ae": {
      "model_module": "@jupyter-widgets/base",
      "model_module_version": "2.0.0",
      "model_name": "LayoutModel",
      "state": {
       "_model_module": "@jupyter-widgets/base",
       "_model_module_version": "2.0.0",
       "_model_name": "LayoutModel",
       "_view_count": null,
       "_view_module": "@jupyter-widgets/base",
       "_view_module_version": "2.0.0",
       "_view_name": "LayoutView",
       "align_content": null,
       "align_items": null,
       "align_self": null,
       "border_bottom": null,
       "border_left": null,
       "border_right": null,
       "border_top": null,
       "bottom": null,
       "display": null,
       "flex": null,
       "flex_flow": null,
       "grid_area": null,
       "grid_auto_columns": null,
       "grid_auto_flow": null,
       "grid_auto_rows": null,
       "grid_column": null,
       "grid_gap": null,
       "grid_row": null,
       "grid_template_areas": null,
       "grid_template_columns": null,
       "grid_template_rows": null,
       "height": null,
       "justify_content": null,
       "justify_items": null,
       "left": null,
       "margin": null,
       "max_height": null,
       "max_width": null,
       "min_height": null,
       "min_width": null,
       "object_fit": null,
       "object_position": null,
       "order": null,
       "overflow": null,
       "padding": null,
       "right": null,
       "top": null,
       "visibility": null,
       "width": null
      }
     },
     "a17841805a2b42b59924641742439ae9": {
      "model_module": "@jupyter-widgets/controls",
      "model_module_version": "2.0.0",
      "model_name": "HTMLModel",
      "state": {
       "_dom_classes": [],
       "_model_module": "@jupyter-widgets/controls",
       "_model_module_version": "2.0.0",
       "_model_name": "HTMLModel",
       "_view_count": null,
       "_view_module": "@jupyter-widgets/controls",
       "_view_module_version": "2.0.0",
       "_view_name": "HTMLView",
       "description": "",
       "description_allow_html": false,
       "layout": "IPY_MODEL_421cfa33a48842af8857b76ed672ce25",
       "placeholder": "​",
       "style": "IPY_MODEL_ac6d04c782114a0681ba6fdc713ee93c",
       "tabbable": null,
       "tooltip": null,
       "value": " 1/1 [00:00&lt;00:00, 141.50it/s]"
      }
     },
     "ac6d04c782114a0681ba6fdc713ee93c": {
      "model_module": "@jupyter-widgets/controls",
      "model_module_version": "2.0.0",
      "model_name": "HTMLStyleModel",
      "state": {
       "_model_module": "@jupyter-widgets/controls",
       "_model_module_version": "2.0.0",
       "_model_name": "HTMLStyleModel",
       "_view_count": null,
       "_view_module": "@jupyter-widgets/base",
       "_view_module_version": "2.0.0",
       "_view_name": "StyleView",
       "background": null,
       "description_width": "",
       "font_size": null,
       "text_color": null
      }
     },
     "ada387cdb8d44d9b81a2832a79fd834b": {
      "model_module": "@jupyter-widgets/controls",
      "model_module_version": "2.0.0",
      "model_name": "HTMLModel",
      "state": {
       "_dom_classes": [],
       "_model_module": "@jupyter-widgets/controls",
       "_model_module_version": "2.0.0",
       "_model_name": "HTMLModel",
       "_view_count": null,
       "_view_module": "@jupyter-widgets/controls",
       "_view_module_version": "2.0.0",
       "_view_name": "HTMLView",
       "description": "",
       "description_allow_html": false,
       "layout": "IPY_MODEL_4686b8fcadd843de90c3083d901db2c0",
       "placeholder": "​",
       "style": "IPY_MODEL_4c1182c8a9114f20801794ddcc152e71",
       "tabbable": null,
       "tooltip": null,
       "value": "Generating train split: "
      }
     },
     "b4c6fdb7403c4d859c5e7fef7dc0de27": {
      "model_module": "@jupyter-widgets/controls",
      "model_module_version": "2.0.0",
      "model_name": "FloatProgressModel",
      "state": {
       "_dom_classes": [],
       "_model_module": "@jupyter-widgets/controls",
       "_model_module_version": "2.0.0",
       "_model_name": "FloatProgressModel",
       "_view_count": null,
       "_view_module": "@jupyter-widgets/controls",
       "_view_module_version": "2.0.0",
       "_view_name": "ProgressView",
       "bar_style": "success",
       "description": "",
       "description_allow_html": false,
       "layout": "IPY_MODEL_3a199f24e9664284a9bb6bfaf3590a03",
       "max": 1,
       "min": 0,
       "orientation": "horizontal",
       "style": "IPY_MODEL_0d14aef39f7a4d948f6c37b98406cf84",
       "tabbable": null,
       "tooltip": null,
       "value": 1
      }
     },
     "bedbcd5122654b669ac855ee7bce8abe": {
      "model_module": "@jupyter-widgets/controls",
      "model_module_version": "2.0.0",
      "model_name": "HTMLModel",
      "state": {
       "_dom_classes": [],
       "_model_module": "@jupyter-widgets/controls",
       "_model_module_version": "2.0.0",
       "_model_name": "HTMLModel",
       "_view_count": null,
       "_view_module": "@jupyter-widgets/controls",
       "_view_module_version": "2.0.0",
       "_view_name": "HTMLView",
       "description": "",
       "description_allow_html": false,
       "layout": "IPY_MODEL_0a0c344bab99424fb96fb9cd9922ef7a",
       "placeholder": "​",
       "style": "IPY_MODEL_98b2e93c495c4ffb923811276465955c",
       "tabbable": null,
       "tooltip": null,
       "value": "Generating train split: "
      }
     },
     "c1a37800201b42ce9041d763746785ca": {
      "model_module": "@jupyter-widgets/base",
      "model_module_version": "2.0.0",
      "model_name": "LayoutModel",
      "state": {
       "_model_module": "@jupyter-widgets/base",
       "_model_module_version": "2.0.0",
       "_model_name": "LayoutModel",
       "_view_count": null,
       "_view_module": "@jupyter-widgets/base",
       "_view_module_version": "2.0.0",
       "_view_name": "LayoutView",
       "align_content": null,
       "align_items": null,
       "align_self": null,
       "border_bottom": null,
       "border_left": null,
       "border_right": null,
       "border_top": null,
       "bottom": null,
       "display": null,
       "flex": null,
       "flex_flow": null,
       "grid_area": null,
       "grid_auto_columns": null,
       "grid_auto_flow": null,
       "grid_auto_rows": null,
       "grid_column": null,
       "grid_gap": null,
       "grid_row": null,
       "grid_template_areas": null,
       "grid_template_columns": null,
       "grid_template_rows": null,
       "height": null,
       "justify_content": null,
       "justify_items": null,
       "left": null,
       "margin": null,
       "max_height": null,
       "max_width": null,
       "min_height": null,
       "min_width": null,
       "object_fit": null,
       "object_position": null,
       "order": null,
       "overflow": null,
       "padding": null,
       "right": null,
       "top": null,
       "visibility": null,
       "width": "20px"
      }
     },
     "c59b876772a0436d98d1de6a7bbd1dd0": {
      "model_module": "@jupyter-widgets/controls",
      "model_module_version": "2.0.0",
      "model_name": "ProgressStyleModel",
      "state": {
       "_model_module": "@jupyter-widgets/controls",
       "_model_module_version": "2.0.0",
       "_model_name": "ProgressStyleModel",
       "_view_count": null,
       "_view_module": "@jupyter-widgets/base",
       "_view_module_version": "2.0.0",
       "_view_name": "StyleView",
       "bar_color": null,
       "description_width": ""
      }
     },
     "cbb8f34e7ba642b292ebf2f57f0aa785": {
      "model_module": "@jupyter-widgets/base",
      "model_module_version": "2.0.0",
      "model_name": "LayoutModel",
      "state": {
       "_model_module": "@jupyter-widgets/base",
       "_model_module_version": "2.0.0",
       "_model_name": "LayoutModel",
       "_view_count": null,
       "_view_module": "@jupyter-widgets/base",
       "_view_module_version": "2.0.0",
       "_view_name": "LayoutView",
       "align_content": null,
       "align_items": null,
       "align_self": null,
       "border_bottom": null,
       "border_left": null,
       "border_right": null,
       "border_top": null,
       "bottom": null,
       "display": null,
       "flex": null,
       "flex_flow": null,
       "grid_area": null,
       "grid_auto_columns": null,
       "grid_auto_flow": null,
       "grid_auto_rows": null,
       "grid_column": null,
       "grid_gap": null,
       "grid_row": null,
       "grid_template_areas": null,
       "grid_template_columns": null,
       "grid_template_rows": null,
       "height": null,
       "justify_content": null,
       "justify_items": null,
       "left": null,
       "margin": null,
       "max_height": null,
       "max_width": null,
       "min_height": null,
       "min_width": null,
       "object_fit": null,
       "object_position": null,
       "order": null,
       "overflow": null,
       "padding": null,
       "right": null,
       "top": null,
       "visibility": null,
       "width": null
      }
     },
     "cf625d0b82f9403cb1233abaac5e3cd9": {
      "model_module": "@jupyter-widgets/base",
      "model_module_version": "2.0.0",
      "model_name": "LayoutModel",
      "state": {
       "_model_module": "@jupyter-widgets/base",
       "_model_module_version": "2.0.0",
       "_model_name": "LayoutModel",
       "_view_count": null,
       "_view_module": "@jupyter-widgets/base",
       "_view_module_version": "2.0.0",
       "_view_name": "LayoutView",
       "align_content": null,
       "align_items": null,
       "align_self": null,
       "border_bottom": null,
       "border_left": null,
       "border_right": null,
       "border_top": null,
       "bottom": null,
       "display": null,
       "flex": null,
       "flex_flow": null,
       "grid_area": null,
       "grid_auto_columns": null,
       "grid_auto_flow": null,
       "grid_auto_rows": null,
       "grid_column": null,
       "grid_gap": null,
       "grid_row": null,
       "grid_template_areas": null,
       "grid_template_columns": null,
       "grid_template_rows": null,
       "height": null,
       "justify_content": null,
       "justify_items": null,
       "left": null,
       "margin": null,
       "max_height": null,
       "max_width": null,
       "min_height": null,
       "min_width": null,
       "object_fit": null,
       "object_position": null,
       "order": null,
       "overflow": null,
       "padding": null,
       "right": null,
       "top": null,
       "visibility": null,
       "width": null
      }
     },
     "d1141787f50248dc9f07ba4d0af5ac2f": {
      "model_module": "@jupyter-widgets/base",
      "model_module_version": "2.0.0",
      "model_name": "LayoutModel",
      "state": {
       "_model_module": "@jupyter-widgets/base",
       "_model_module_version": "2.0.0",
       "_model_name": "LayoutModel",
       "_view_count": null,
       "_view_module": "@jupyter-widgets/base",
       "_view_module_version": "2.0.0",
       "_view_name": "LayoutView",
       "align_content": null,
       "align_items": null,
       "align_self": null,
       "border_bottom": null,
       "border_left": null,
       "border_right": null,
       "border_top": null,
       "bottom": null,
       "display": null,
       "flex": null,
       "flex_flow": null,
       "grid_area": null,
       "grid_auto_columns": null,
       "grid_auto_flow": null,
       "grid_auto_rows": null,
       "grid_column": null,
       "grid_gap": null,
       "grid_row": null,
       "grid_template_areas": null,
       "grid_template_columns": null,
       "grid_template_rows": null,
       "height": null,
       "justify_content": null,
       "justify_items": null,
       "left": null,
       "margin": null,
       "max_height": null,
       "max_width": null,
       "min_height": null,
       "min_width": null,
       "object_fit": null,
       "object_position": null,
       "order": null,
       "overflow": null,
       "padding": null,
       "right": null,
       "top": null,
       "visibility": null,
       "width": null
      }
     },
     "d39acc3e1fdf4335bcf0d647b694c2f6": {
      "model_module": "@jupyter-widgets/base",
      "model_module_version": "2.0.0",
      "model_name": "LayoutModel",
      "state": {
       "_model_module": "@jupyter-widgets/base",
       "_model_module_version": "2.0.0",
       "_model_name": "LayoutModel",
       "_view_count": null,
       "_view_module": "@jupyter-widgets/base",
       "_view_module_version": "2.0.0",
       "_view_name": "LayoutView",
       "align_content": null,
       "align_items": null,
       "align_self": null,
       "border_bottom": null,
       "border_left": null,
       "border_right": null,
       "border_top": null,
       "bottom": null,
       "display": null,
       "flex": null,
       "flex_flow": null,
       "grid_area": null,
       "grid_auto_columns": null,
       "grid_auto_flow": null,
       "grid_auto_rows": null,
       "grid_column": null,
       "grid_gap": null,
       "grid_row": null,
       "grid_template_areas": null,
       "grid_template_columns": null,
       "grid_template_rows": null,
       "height": null,
       "justify_content": null,
       "justify_items": null,
       "left": null,
       "margin": null,
       "max_height": null,
       "max_width": null,
       "min_height": null,
       "min_width": null,
       "object_fit": null,
       "object_position": null,
       "order": null,
       "overflow": null,
       "padding": null,
       "right": null,
       "top": null,
       "visibility": null,
       "width": null
      }
     },
     "d6db2130834d4f1aaf54f3089ebef32c": {
      "model_module": "@jupyter-widgets/controls",
      "model_module_version": "2.0.0",
      "model_name": "HTMLModel",
      "state": {
       "_dom_classes": [],
       "_model_module": "@jupyter-widgets/controls",
       "_model_module_version": "2.0.0",
       "_model_name": "HTMLModel",
       "_view_count": null,
       "_view_module": "@jupyter-widgets/controls",
       "_view_module_version": "2.0.0",
       "_view_name": "HTMLView",
       "description": "",
       "description_allow_html": false,
       "layout": "IPY_MODEL_71f1d1d5994c4ba39dedcfc0da2fad36",
       "placeholder": "​",
       "style": "IPY_MODEL_79970ceeb2a34f2481e145f6f4d7f44e",
       "tabbable": null,
       "tooltip": null,
       "value": "Map (num_proc=3): 100%"
      }
     },
     "da7cedb1a69a4573bb0a3990b06c6273": {
      "model_module": "@jupyter-widgets/controls",
      "model_module_version": "2.0.0",
      "model_name": "ProgressStyleModel",
      "state": {
       "_model_module": "@jupyter-widgets/controls",
       "_model_module_version": "2.0.0",
       "_model_name": "ProgressStyleModel",
       "_view_count": null,
       "_view_module": "@jupyter-widgets/base",
       "_view_module_version": "2.0.0",
       "_view_name": "StyleView",
       "bar_color": null,
       "description_width": ""
      }
     },
     "e0b3e61121de40cbbf03d2200e4f54f1": {
      "model_module": "@jupyter-widgets/controls",
      "model_module_version": "2.0.0",
      "model_name": "HTMLModel",
      "state": {
       "_dom_classes": [],
       "_model_module": "@jupyter-widgets/controls",
       "_model_module_version": "2.0.0",
       "_model_name": "HTMLModel",
       "_view_count": null,
       "_view_module": "@jupyter-widgets/controls",
       "_view_module_version": "2.0.0",
       "_view_name": "HTMLView",
       "description": "",
       "description_allow_html": false,
       "layout": "IPY_MODEL_316d1884a4b148d7ba7bdc213d30eeae",
       "placeholder": "​",
       "style": "IPY_MODEL_41cabba98cb547e883284405e7a5b093",
       "tabbable": null,
       "tooltip": null,
       "value": " 3/0 [00:00&lt;00:00, 200.30 examples/s]"
      }
     },
     "e8399b50055249d985058335b457db6c": {
      "model_module": "@jupyter-widgets/controls",
      "model_module_version": "2.0.0",
      "model_name": "ProgressStyleModel",
      "state": {
       "_model_module": "@jupyter-widgets/controls",
       "_model_module_version": "2.0.0",
       "_model_name": "ProgressStyleModel",
       "_view_count": null,
       "_view_module": "@jupyter-widgets/base",
       "_view_module_version": "2.0.0",
       "_view_name": "StyleView",
       "bar_color": null,
       "description_width": ""
      }
     },
     "e94269ff1a534b8f99a2ae5e544a8ef5": {
      "model_module": "@jupyter-widgets/base",
      "model_module_version": "2.0.0",
      "model_name": "LayoutModel",
      "state": {
       "_model_module": "@jupyter-widgets/base",
       "_model_module_version": "2.0.0",
       "_model_name": "LayoutModel",
       "_view_count": null,
       "_view_module": "@jupyter-widgets/base",
       "_view_module_version": "2.0.0",
       "_view_name": "LayoutView",
       "align_content": null,
       "align_items": null,
       "align_self": null,
       "border_bottom": null,
       "border_left": null,
       "border_right": null,
       "border_top": null,
       "bottom": null,
       "display": null,
       "flex": null,
       "flex_flow": null,
       "grid_area": null,
       "grid_auto_columns": null,
       "grid_auto_flow": null,
       "grid_auto_rows": null,
       "grid_column": null,
       "grid_gap": null,
       "grid_row": null,
       "grid_template_areas": null,
       "grid_template_columns": null,
       "grid_template_rows": null,
       "height": null,
       "justify_content": null,
       "justify_items": null,
       "left": null,
       "margin": null,
       "max_height": null,
       "max_width": null,
       "min_height": null,
       "min_width": null,
       "object_fit": null,
       "object_position": null,
       "order": null,
       "overflow": null,
       "padding": null,
       "right": null,
       "top": null,
       "visibility": null,
       "width": null
      }
     },
     "f050812a3f6c485aab7f9c2efdb0f2d3": {
      "model_module": "@jupyter-widgets/controls",
      "model_module_version": "2.0.0",
      "model_name": "HTMLModel",
      "state": {
       "_dom_classes": [],
       "_model_module": "@jupyter-widgets/controls",
       "_model_module_version": "2.0.0",
       "_model_name": "HTMLModel",
       "_view_count": null,
       "_view_module": "@jupyter-widgets/controls",
       "_view_module_version": "2.0.0",
       "_view_name": "HTMLView",
       "description": "",
       "description_allow_html": false,
       "layout": "IPY_MODEL_9d84c36414b84072b1c539235d5102ae",
       "placeholder": "​",
       "style": "IPY_MODEL_61eb20f4bf5f42b780778e2cb28e7e81",
       "tabbable": null,
       "tooltip": null,
       "value": " 57477/0 [00:01&lt;00:00, 30255.13 examples/s]"
      }
     },
     "f330389187d44072807b25b926192243": {
      "model_module": "@jupyter-widgets/base",
      "model_module_version": "2.0.0",
      "model_name": "LayoutModel",
      "state": {
       "_model_module": "@jupyter-widgets/base",
       "_model_module_version": "2.0.0",
       "_model_name": "LayoutModel",
       "_view_count": null,
       "_view_module": "@jupyter-widgets/base",
       "_view_module_version": "2.0.0",
       "_view_name": "LayoutView",
       "align_content": null,
       "align_items": null,
       "align_self": null,
       "border_bottom": null,
       "border_left": null,
       "border_right": null,
       "border_top": null,
       "bottom": null,
       "display": null,
       "flex": null,
       "flex_flow": null,
       "grid_area": null,
       "grid_auto_columns": null,
       "grid_auto_flow": null,
       "grid_auto_rows": null,
       "grid_column": null,
       "grid_gap": null,
       "grid_row": null,
       "grid_template_areas": null,
       "grid_template_columns": null,
       "grid_template_rows": null,
       "height": null,
       "justify_content": null,
       "justify_items": null,
       "left": null,
       "margin": null,
       "max_height": null,
       "max_width": null,
       "min_height": null,
       "min_width": null,
       "object_fit": null,
       "object_position": null,
       "order": null,
       "overflow": null,
       "padding": null,
       "right": null,
       "top": null,
       "visibility": null,
       "width": null
      }
     },
     "f7f5f99c541c441290ced3fc8a3f3101": {
      "model_module": "@jupyter-widgets/controls",
      "model_module_version": "2.0.0",
      "model_name": "HTMLModel",
      "state": {
       "_dom_classes": [],
       "_model_module": "@jupyter-widgets/controls",
       "_model_module_version": "2.0.0",
       "_model_name": "HTMLModel",
       "_view_count": null,
       "_view_module": "@jupyter-widgets/controls",
       "_view_module_version": "2.0.0",
       "_view_name": "HTMLView",
       "description": "",
       "description_allow_html": false,
       "layout": "IPY_MODEL_110032c02623406ebd894d3e24d30068",
       "placeholder": "​",
       "style": "IPY_MODEL_9957f342f2a947aaaf298d788153e893",
       "tabbable": null,
       "tooltip": null,
       "value": " 57477/57477 [00:52&lt;00:00, 2409.02 examples/s]"
      }
     },
     "ffa287c271834fd3a782e4fdf945939b": {
      "model_module": "@jupyter-widgets/base",
      "model_module_version": "2.0.0",
      "model_name": "LayoutModel",
      "state": {
       "_model_module": "@jupyter-widgets/base",
       "_model_module_version": "2.0.0",
       "_model_name": "LayoutModel",
       "_view_count": null,
       "_view_module": "@jupyter-widgets/base",
       "_view_module_version": "2.0.0",
       "_view_name": "LayoutView",
       "align_content": null,
       "align_items": null,
       "align_self": null,
       "border_bottom": null,
       "border_left": null,
       "border_right": null,
       "border_top": null,
       "bottom": null,
       "display": null,
       "flex": null,
       "flex_flow": null,
       "grid_area": null,
       "grid_auto_columns": null,
       "grid_auto_flow": null,
       "grid_auto_rows": null,
       "grid_column": null,
       "grid_gap": null,
       "grid_row": null,
       "grid_template_areas": null,
       "grid_template_columns": null,
       "grid_template_rows": null,
       "height": null,
       "justify_content": null,
       "justify_items": null,
       "left": null,
       "margin": null,
       "max_height": null,
       "max_width": null,
       "min_height": null,
       "min_width": null,
       "object_fit": null,
       "object_position": null,
       "order": null,
       "overflow": null,
       "padding": null,
       "right": null,
       "top": null,
       "visibility": null,
       "width": null
      }
     }
    },
    "version_major": 2,
    "version_minor": 0
   }
  }
 },
 "nbformat": 4,
 "nbformat_minor": 5
}
